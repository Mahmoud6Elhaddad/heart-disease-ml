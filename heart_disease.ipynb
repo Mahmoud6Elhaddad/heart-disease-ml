{
  "cells": [
    {
      "cell_type": "code",
      "execution_count": 1,
      "metadata": {
        "id": "XwsJqr8maaYc"
      },
      "outputs": [],
      "source": [
        "import pandas as pd\n",
        "import numpy as np\n",
        "import matplotlib.pyplot as plt\n",
        "import seaborn as sns\n",
        "from sklearn.metrics import confusion_matrix"
      ]
    },
    {
      "cell_type": "markdown",
      "metadata": {
        "id": "9FfcvZ2mmgdm"
      },
      "source": [
        "Data cleaning"
      ]
    },
    {
      "cell_type": "code",
      "execution_count": 2,
      "metadata": {
        "id": "QwsC4XofaaaQ"
      },
      "outputs": [],
      "source": [
        "df=pd.read_csv('Mahmoud Mohamed Elsaied Mohamed Elmetwally - heart_disease_uci.csv')"
      ]
    },
    {
      "cell_type": "code",
      "execution_count": 3,
      "metadata": {
        "colab": {
          "base_uri": "https://localhost:8080/",
          "height": 206
        },
        "id": "YwmxxjF0aacW",
        "outputId": "f2ae0a6f-8ee4-43e3-88b9-9129fcd1e27b"
      },
      "outputs": [
        {
          "data": {
            "application/vnd.microsoft.datawrangler.viewer.v0+json": {
              "columns": [
                {
                  "name": "index",
                  "rawType": "int64",
                  "type": "integer"
                },
                {
                  "name": "id",
                  "rawType": "int64",
                  "type": "integer"
                },
                {
                  "name": "age",
                  "rawType": "int64",
                  "type": "integer"
                },
                {
                  "name": "sex",
                  "rawType": "object",
                  "type": "string"
                },
                {
                  "name": "dataset",
                  "rawType": "object",
                  "type": "string"
                },
                {
                  "name": "cp",
                  "rawType": "object",
                  "type": "string"
                },
                {
                  "name": "trestbps",
                  "rawType": "float64",
                  "type": "float"
                },
                {
                  "name": "chol",
                  "rawType": "float64",
                  "type": "float"
                },
                {
                  "name": "fbs",
                  "rawType": "object",
                  "type": "unknown"
                },
                {
                  "name": "restecg",
                  "rawType": "object",
                  "type": "string"
                },
                {
                  "name": "thalch",
                  "rawType": "float64",
                  "type": "float"
                },
                {
                  "name": "exang",
                  "rawType": "object",
                  "type": "unknown"
                },
                {
                  "name": "oldpeak",
                  "rawType": "float64",
                  "type": "float"
                },
                {
                  "name": "slope",
                  "rawType": "object",
                  "type": "string"
                },
                {
                  "name": "ca",
                  "rawType": "float64",
                  "type": "float"
                },
                {
                  "name": "thal",
                  "rawType": "object",
                  "type": "string"
                },
                {
                  "name": "num",
                  "rawType": "int64",
                  "type": "integer"
                }
              ],
              "ref": "528c371d-61e5-486a-b705-f0331dac3cac",
              "rows": [
                [
                  "0",
                  "1",
                  "63",
                  "Male",
                  "Cleveland",
                  "typical angina",
                  "145.0",
                  "233.0",
                  "True",
                  "lv hypertrophy",
                  "150.0",
                  "False",
                  "2.3",
                  "downsloping",
                  "0.0",
                  "fixed defect",
                  "0"
                ],
                [
                  "1",
                  "2",
                  "67",
                  "Male",
                  "Cleveland",
                  "asymptomatic",
                  "160.0",
                  "286.0",
                  "False",
                  "lv hypertrophy",
                  "108.0",
                  "True",
                  "1.5",
                  "flat",
                  "3.0",
                  "normal",
                  "2"
                ],
                [
                  "2",
                  "3",
                  "67",
                  "Male",
                  "Cleveland",
                  "asymptomatic",
                  "120.0",
                  "229.0",
                  "False",
                  "lv hypertrophy",
                  "129.0",
                  "True",
                  "2.6",
                  "flat",
                  "2.0",
                  "reversable defect",
                  "1"
                ],
                [
                  "3",
                  "4",
                  "37",
                  "Male",
                  "Cleveland",
                  "non-anginal",
                  "130.0",
                  "250.0",
                  "False",
                  "normal",
                  "187.0",
                  "False",
                  "3.5",
                  "downsloping",
                  "0.0",
                  "normal",
                  "0"
                ],
                [
                  "4",
                  "5",
                  "41",
                  "Female",
                  "Cleveland",
                  "atypical angina",
                  "130.0",
                  "204.0",
                  "False",
                  "lv hypertrophy",
                  "172.0",
                  "False",
                  "1.4",
                  "upsloping",
                  "0.0",
                  "normal",
                  "0"
                ]
              ],
              "shape": {
                "columns": 16,
                "rows": 5
              }
            },
            "text/html": [
              "<div>\n",
              "<style scoped>\n",
              "    .dataframe tbody tr th:only-of-type {\n",
              "        vertical-align: middle;\n",
              "    }\n",
              "\n",
              "    .dataframe tbody tr th {\n",
              "        vertical-align: top;\n",
              "    }\n",
              "\n",
              "    .dataframe thead th {\n",
              "        text-align: right;\n",
              "    }\n",
              "</style>\n",
              "<table border=\"1\" class=\"dataframe\">\n",
              "  <thead>\n",
              "    <tr style=\"text-align: right;\">\n",
              "      <th></th>\n",
              "      <th>id</th>\n",
              "      <th>age</th>\n",
              "      <th>sex</th>\n",
              "      <th>dataset</th>\n",
              "      <th>cp</th>\n",
              "      <th>trestbps</th>\n",
              "      <th>chol</th>\n",
              "      <th>fbs</th>\n",
              "      <th>restecg</th>\n",
              "      <th>thalch</th>\n",
              "      <th>exang</th>\n",
              "      <th>oldpeak</th>\n",
              "      <th>slope</th>\n",
              "      <th>ca</th>\n",
              "      <th>thal</th>\n",
              "      <th>num</th>\n",
              "    </tr>\n",
              "  </thead>\n",
              "  <tbody>\n",
              "    <tr>\n",
              "      <th>0</th>\n",
              "      <td>1</td>\n",
              "      <td>63</td>\n",
              "      <td>Male</td>\n",
              "      <td>Cleveland</td>\n",
              "      <td>typical angina</td>\n",
              "      <td>145.0</td>\n",
              "      <td>233.0</td>\n",
              "      <td>True</td>\n",
              "      <td>lv hypertrophy</td>\n",
              "      <td>150.0</td>\n",
              "      <td>False</td>\n",
              "      <td>2.3</td>\n",
              "      <td>downsloping</td>\n",
              "      <td>0.0</td>\n",
              "      <td>fixed defect</td>\n",
              "      <td>0</td>\n",
              "    </tr>\n",
              "    <tr>\n",
              "      <th>1</th>\n",
              "      <td>2</td>\n",
              "      <td>67</td>\n",
              "      <td>Male</td>\n",
              "      <td>Cleveland</td>\n",
              "      <td>asymptomatic</td>\n",
              "      <td>160.0</td>\n",
              "      <td>286.0</td>\n",
              "      <td>False</td>\n",
              "      <td>lv hypertrophy</td>\n",
              "      <td>108.0</td>\n",
              "      <td>True</td>\n",
              "      <td>1.5</td>\n",
              "      <td>flat</td>\n",
              "      <td>3.0</td>\n",
              "      <td>normal</td>\n",
              "      <td>2</td>\n",
              "    </tr>\n",
              "    <tr>\n",
              "      <th>2</th>\n",
              "      <td>3</td>\n",
              "      <td>67</td>\n",
              "      <td>Male</td>\n",
              "      <td>Cleveland</td>\n",
              "      <td>asymptomatic</td>\n",
              "      <td>120.0</td>\n",
              "      <td>229.0</td>\n",
              "      <td>False</td>\n",
              "      <td>lv hypertrophy</td>\n",
              "      <td>129.0</td>\n",
              "      <td>True</td>\n",
              "      <td>2.6</td>\n",
              "      <td>flat</td>\n",
              "      <td>2.0</td>\n",
              "      <td>reversable defect</td>\n",
              "      <td>1</td>\n",
              "    </tr>\n",
              "    <tr>\n",
              "      <th>3</th>\n",
              "      <td>4</td>\n",
              "      <td>37</td>\n",
              "      <td>Male</td>\n",
              "      <td>Cleveland</td>\n",
              "      <td>non-anginal</td>\n",
              "      <td>130.0</td>\n",
              "      <td>250.0</td>\n",
              "      <td>False</td>\n",
              "      <td>normal</td>\n",
              "      <td>187.0</td>\n",
              "      <td>False</td>\n",
              "      <td>3.5</td>\n",
              "      <td>downsloping</td>\n",
              "      <td>0.0</td>\n",
              "      <td>normal</td>\n",
              "      <td>0</td>\n",
              "    </tr>\n",
              "    <tr>\n",
              "      <th>4</th>\n",
              "      <td>5</td>\n",
              "      <td>41</td>\n",
              "      <td>Female</td>\n",
              "      <td>Cleveland</td>\n",
              "      <td>atypical angina</td>\n",
              "      <td>130.0</td>\n",
              "      <td>204.0</td>\n",
              "      <td>False</td>\n",
              "      <td>lv hypertrophy</td>\n",
              "      <td>172.0</td>\n",
              "      <td>False</td>\n",
              "      <td>1.4</td>\n",
              "      <td>upsloping</td>\n",
              "      <td>0.0</td>\n",
              "      <td>normal</td>\n",
              "      <td>0</td>\n",
              "    </tr>\n",
              "  </tbody>\n",
              "</table>\n",
              "</div>"
            ],
            "text/plain": [
              "   id  age     sex    dataset               cp  trestbps   chol    fbs  \\\n",
              "0   1   63    Male  Cleveland   typical angina     145.0  233.0   True   \n",
              "1   2   67    Male  Cleveland     asymptomatic     160.0  286.0  False   \n",
              "2   3   67    Male  Cleveland     asymptomatic     120.0  229.0  False   \n",
              "3   4   37    Male  Cleveland      non-anginal     130.0  250.0  False   \n",
              "4   5   41  Female  Cleveland  atypical angina     130.0  204.0  False   \n",
              "\n",
              "          restecg  thalch  exang  oldpeak        slope   ca  \\\n",
              "0  lv hypertrophy   150.0  False      2.3  downsloping  0.0   \n",
              "1  lv hypertrophy   108.0   True      1.5         flat  3.0   \n",
              "2  lv hypertrophy   129.0   True      2.6         flat  2.0   \n",
              "3          normal   187.0  False      3.5  downsloping  0.0   \n",
              "4  lv hypertrophy   172.0  False      1.4    upsloping  0.0   \n",
              "\n",
              "                thal  num  \n",
              "0       fixed defect    0  \n",
              "1             normal    2  \n",
              "2  reversable defect    1  \n",
              "3             normal    0  \n",
              "4             normal    0  "
            ]
          },
          "execution_count": 3,
          "metadata": {},
          "output_type": "execute_result"
        }
      ],
      "source": [
        "df.head()"
      ]
    },
    {
      "cell_type": "code",
      "execution_count": 4,
      "metadata": {
        "colab": {
          "base_uri": "https://localhost:8080/"
        },
        "id": "2bEMEXS5aaeT",
        "outputId": "3ec0a718-3117-4d7c-d0d3-855d85562f92"
      },
      "outputs": [
        {
          "name": "stdout",
          "output_type": "stream",
          "text": [
            "<class 'pandas.core.frame.DataFrame'>\n",
            "RangeIndex: 920 entries, 0 to 919\n",
            "Data columns (total 16 columns):\n",
            " #   Column    Non-Null Count  Dtype  \n",
            "---  ------    --------------  -----  \n",
            " 0   id        920 non-null    int64  \n",
            " 1   age       920 non-null    int64  \n",
            " 2   sex       920 non-null    object \n",
            " 3   dataset   920 non-null    object \n",
            " 4   cp        920 non-null    object \n",
            " 5   trestbps  861 non-null    float64\n",
            " 6   chol      890 non-null    float64\n",
            " 7   fbs       830 non-null    object \n",
            " 8   restecg   918 non-null    object \n",
            " 9   thalch    865 non-null    float64\n",
            " 10  exang     865 non-null    object \n",
            " 11  oldpeak   858 non-null    float64\n",
            " 12  slope     611 non-null    object \n",
            " 13  ca        309 non-null    float64\n",
            " 14  thal      434 non-null    object \n",
            " 15  num       920 non-null    int64  \n",
            "dtypes: float64(5), int64(3), object(8)\n",
            "memory usage: 115.1+ KB\n"
          ]
        }
      ],
      "source": [
        "df.info()"
      ]
    },
    {
      "cell_type": "code",
      "execution_count": 5,
      "metadata": {
        "colab": {
          "base_uri": "https://localhost:8080/",
          "height": 300
        },
        "id": "MtMQ7Nz8aaix",
        "outputId": "f46a6ef1-9af4-450b-fa5e-0b4dced7666b"
      },
      "outputs": [
        {
          "data": {
            "application/vnd.microsoft.datawrangler.viewer.v0+json": {
              "columns": [
                {
                  "name": "index",
                  "rawType": "object",
                  "type": "string"
                },
                {
                  "name": "id",
                  "rawType": "float64",
                  "type": "float"
                },
                {
                  "name": "age",
                  "rawType": "float64",
                  "type": "float"
                },
                {
                  "name": "trestbps",
                  "rawType": "float64",
                  "type": "float"
                },
                {
                  "name": "chol",
                  "rawType": "float64",
                  "type": "float"
                },
                {
                  "name": "thalch",
                  "rawType": "float64",
                  "type": "float"
                },
                {
                  "name": "oldpeak",
                  "rawType": "float64",
                  "type": "float"
                },
                {
                  "name": "ca",
                  "rawType": "float64",
                  "type": "float"
                },
                {
                  "name": "num",
                  "rawType": "float64",
                  "type": "float"
                }
              ],
              "ref": "228f15e9-8f20-4236-8a28-155cab32ce39",
              "rows": [
                [
                  "count",
                  "920.0",
                  "920.0",
                  "861.0",
                  "890.0",
                  "865.0",
                  "858.0",
                  "309.0",
                  "920.0"
                ],
                [
                  "mean",
                  "460.5",
                  "53.51086956521739",
                  "132.13240418118468",
                  "199.13033707865168",
                  "137.5456647398844",
                  "0.8787878787878788",
                  "0.6763754045307443",
                  "0.9956521739130435"
                ],
                [
                  "std",
                  "265.72542219366215",
                  "9.424685209576857",
                  "19.066069518587476",
                  "110.7808103532305",
                  "25.926276492797594",
                  "1.0912262483465298",
                  "0.935653012559987",
                  "1.142693403338037"
                ],
                [
                  "min",
                  "1.0",
                  "28.0",
                  "0.0",
                  "0.0",
                  "60.0",
                  "-2.6",
                  "0.0",
                  "0.0"
                ],
                [
                  "25%",
                  "230.75",
                  "47.0",
                  "120.0",
                  "175.0",
                  "120.0",
                  "0.0",
                  "0.0",
                  "0.0"
                ],
                [
                  "50%",
                  "460.5",
                  "54.0",
                  "130.0",
                  "223.0",
                  "140.0",
                  "0.5",
                  "0.0",
                  "1.0"
                ],
                [
                  "75%",
                  "690.25",
                  "60.0",
                  "140.0",
                  "268.0",
                  "157.0",
                  "1.5",
                  "1.0",
                  "2.0"
                ],
                [
                  "max",
                  "920.0",
                  "77.0",
                  "200.0",
                  "603.0",
                  "202.0",
                  "6.2",
                  "3.0",
                  "4.0"
                ]
              ],
              "shape": {
                "columns": 8,
                "rows": 8
              }
            },
            "text/html": [
              "<div>\n",
              "<style scoped>\n",
              "    .dataframe tbody tr th:only-of-type {\n",
              "        vertical-align: middle;\n",
              "    }\n",
              "\n",
              "    .dataframe tbody tr th {\n",
              "        vertical-align: top;\n",
              "    }\n",
              "\n",
              "    .dataframe thead th {\n",
              "        text-align: right;\n",
              "    }\n",
              "</style>\n",
              "<table border=\"1\" class=\"dataframe\">\n",
              "  <thead>\n",
              "    <tr style=\"text-align: right;\">\n",
              "      <th></th>\n",
              "      <th>id</th>\n",
              "      <th>age</th>\n",
              "      <th>trestbps</th>\n",
              "      <th>chol</th>\n",
              "      <th>thalch</th>\n",
              "      <th>oldpeak</th>\n",
              "      <th>ca</th>\n",
              "      <th>num</th>\n",
              "    </tr>\n",
              "  </thead>\n",
              "  <tbody>\n",
              "    <tr>\n",
              "      <th>count</th>\n",
              "      <td>920.000000</td>\n",
              "      <td>920.000000</td>\n",
              "      <td>861.000000</td>\n",
              "      <td>890.000000</td>\n",
              "      <td>865.000000</td>\n",
              "      <td>858.000000</td>\n",
              "      <td>309.000000</td>\n",
              "      <td>920.000000</td>\n",
              "    </tr>\n",
              "    <tr>\n",
              "      <th>mean</th>\n",
              "      <td>460.500000</td>\n",
              "      <td>53.510870</td>\n",
              "      <td>132.132404</td>\n",
              "      <td>199.130337</td>\n",
              "      <td>137.545665</td>\n",
              "      <td>0.878788</td>\n",
              "      <td>0.676375</td>\n",
              "      <td>0.995652</td>\n",
              "    </tr>\n",
              "    <tr>\n",
              "      <th>std</th>\n",
              "      <td>265.725422</td>\n",
              "      <td>9.424685</td>\n",
              "      <td>19.066070</td>\n",
              "      <td>110.780810</td>\n",
              "      <td>25.926276</td>\n",
              "      <td>1.091226</td>\n",
              "      <td>0.935653</td>\n",
              "      <td>1.142693</td>\n",
              "    </tr>\n",
              "    <tr>\n",
              "      <th>min</th>\n",
              "      <td>1.000000</td>\n",
              "      <td>28.000000</td>\n",
              "      <td>0.000000</td>\n",
              "      <td>0.000000</td>\n",
              "      <td>60.000000</td>\n",
              "      <td>-2.600000</td>\n",
              "      <td>0.000000</td>\n",
              "      <td>0.000000</td>\n",
              "    </tr>\n",
              "    <tr>\n",
              "      <th>25%</th>\n",
              "      <td>230.750000</td>\n",
              "      <td>47.000000</td>\n",
              "      <td>120.000000</td>\n",
              "      <td>175.000000</td>\n",
              "      <td>120.000000</td>\n",
              "      <td>0.000000</td>\n",
              "      <td>0.000000</td>\n",
              "      <td>0.000000</td>\n",
              "    </tr>\n",
              "    <tr>\n",
              "      <th>50%</th>\n",
              "      <td>460.500000</td>\n",
              "      <td>54.000000</td>\n",
              "      <td>130.000000</td>\n",
              "      <td>223.000000</td>\n",
              "      <td>140.000000</td>\n",
              "      <td>0.500000</td>\n",
              "      <td>0.000000</td>\n",
              "      <td>1.000000</td>\n",
              "    </tr>\n",
              "    <tr>\n",
              "      <th>75%</th>\n",
              "      <td>690.250000</td>\n",
              "      <td>60.000000</td>\n",
              "      <td>140.000000</td>\n",
              "      <td>268.000000</td>\n",
              "      <td>157.000000</td>\n",
              "      <td>1.500000</td>\n",
              "      <td>1.000000</td>\n",
              "      <td>2.000000</td>\n",
              "    </tr>\n",
              "    <tr>\n",
              "      <th>max</th>\n",
              "      <td>920.000000</td>\n",
              "      <td>77.000000</td>\n",
              "      <td>200.000000</td>\n",
              "      <td>603.000000</td>\n",
              "      <td>202.000000</td>\n",
              "      <td>6.200000</td>\n",
              "      <td>3.000000</td>\n",
              "      <td>4.000000</td>\n",
              "    </tr>\n",
              "  </tbody>\n",
              "</table>\n",
              "</div>"
            ],
            "text/plain": [
              "               id         age    trestbps        chol      thalch     oldpeak  \\\n",
              "count  920.000000  920.000000  861.000000  890.000000  865.000000  858.000000   \n",
              "mean   460.500000   53.510870  132.132404  199.130337  137.545665    0.878788   \n",
              "std    265.725422    9.424685   19.066070  110.780810   25.926276    1.091226   \n",
              "min      1.000000   28.000000    0.000000    0.000000   60.000000   -2.600000   \n",
              "25%    230.750000   47.000000  120.000000  175.000000  120.000000    0.000000   \n",
              "50%    460.500000   54.000000  130.000000  223.000000  140.000000    0.500000   \n",
              "75%    690.250000   60.000000  140.000000  268.000000  157.000000    1.500000   \n",
              "max    920.000000   77.000000  200.000000  603.000000  202.000000    6.200000   \n",
              "\n",
              "               ca         num  \n",
              "count  309.000000  920.000000  \n",
              "mean     0.676375    0.995652  \n",
              "std      0.935653    1.142693  \n",
              "min      0.000000    0.000000  \n",
              "25%      0.000000    0.000000  \n",
              "50%      0.000000    1.000000  \n",
              "75%      1.000000    2.000000  \n",
              "max      3.000000    4.000000  "
            ]
          },
          "execution_count": 5,
          "metadata": {},
          "output_type": "execute_result"
        }
      ],
      "source": [
        "df.describe()"
      ]
    },
    {
      "cell_type": "code",
      "execution_count": 6,
      "metadata": {
        "id": "z3XSI4Izaak-"
      },
      "outputs": [],
      "source": [
        "df.drop(columns='id',inplace=True)"
      ]
    },
    {
      "cell_type": "code",
      "execution_count": 7,
      "metadata": {
        "colab": {
          "base_uri": "https://localhost:8080/",
          "height": 206
        },
        "id": "6MM36BFCaaoG",
        "outputId": "4392e9d6-60d2-49e3-bc11-b7c43c879689"
      },
      "outputs": [
        {
          "data": {
            "application/vnd.microsoft.datawrangler.viewer.v0+json": {
              "columns": [
                {
                  "name": "index",
                  "rawType": "int64",
                  "type": "integer"
                },
                {
                  "name": "age",
                  "rawType": "int64",
                  "type": "integer"
                },
                {
                  "name": "sex",
                  "rawType": "object",
                  "type": "string"
                },
                {
                  "name": "dataset",
                  "rawType": "object",
                  "type": "string"
                },
                {
                  "name": "cp",
                  "rawType": "object",
                  "type": "string"
                },
                {
                  "name": "trestbps",
                  "rawType": "float64",
                  "type": "float"
                },
                {
                  "name": "chol",
                  "rawType": "float64",
                  "type": "float"
                },
                {
                  "name": "fbs",
                  "rawType": "object",
                  "type": "unknown"
                },
                {
                  "name": "restecg",
                  "rawType": "object",
                  "type": "string"
                },
                {
                  "name": "thalch",
                  "rawType": "float64",
                  "type": "float"
                },
                {
                  "name": "exang",
                  "rawType": "object",
                  "type": "unknown"
                },
                {
                  "name": "oldpeak",
                  "rawType": "float64",
                  "type": "float"
                },
                {
                  "name": "slope",
                  "rawType": "object",
                  "type": "string"
                },
                {
                  "name": "ca",
                  "rawType": "float64",
                  "type": "float"
                },
                {
                  "name": "thal",
                  "rawType": "object",
                  "type": "string"
                },
                {
                  "name": "num",
                  "rawType": "int64",
                  "type": "integer"
                }
              ],
              "ref": "33343a1c-cbc5-4384-aaba-cfe4ae1dedae",
              "rows": [
                [
                  "0",
                  "63",
                  "Male",
                  "Cleveland",
                  "typical angina",
                  "145.0",
                  "233.0",
                  "True",
                  "lv hypertrophy",
                  "150.0",
                  "False",
                  "2.3",
                  "downsloping",
                  "0.0",
                  "fixed defect",
                  "0"
                ],
                [
                  "1",
                  "67",
                  "Male",
                  "Cleveland",
                  "asymptomatic",
                  "160.0",
                  "286.0",
                  "False",
                  "lv hypertrophy",
                  "108.0",
                  "True",
                  "1.5",
                  "flat",
                  "3.0",
                  "normal",
                  "2"
                ],
                [
                  "2",
                  "67",
                  "Male",
                  "Cleveland",
                  "asymptomatic",
                  "120.0",
                  "229.0",
                  "False",
                  "lv hypertrophy",
                  "129.0",
                  "True",
                  "2.6",
                  "flat",
                  "2.0",
                  "reversable defect",
                  "1"
                ],
                [
                  "3",
                  "37",
                  "Male",
                  "Cleveland",
                  "non-anginal",
                  "130.0",
                  "250.0",
                  "False",
                  "normal",
                  "187.0",
                  "False",
                  "3.5",
                  "downsloping",
                  "0.0",
                  "normal",
                  "0"
                ],
                [
                  "4",
                  "41",
                  "Female",
                  "Cleveland",
                  "atypical angina",
                  "130.0",
                  "204.0",
                  "False",
                  "lv hypertrophy",
                  "172.0",
                  "False",
                  "1.4",
                  "upsloping",
                  "0.0",
                  "normal",
                  "0"
                ]
              ],
              "shape": {
                "columns": 15,
                "rows": 5
              }
            },
            "text/html": [
              "<div>\n",
              "<style scoped>\n",
              "    .dataframe tbody tr th:only-of-type {\n",
              "        vertical-align: middle;\n",
              "    }\n",
              "\n",
              "    .dataframe tbody tr th {\n",
              "        vertical-align: top;\n",
              "    }\n",
              "\n",
              "    .dataframe thead th {\n",
              "        text-align: right;\n",
              "    }\n",
              "</style>\n",
              "<table border=\"1\" class=\"dataframe\">\n",
              "  <thead>\n",
              "    <tr style=\"text-align: right;\">\n",
              "      <th></th>\n",
              "      <th>age</th>\n",
              "      <th>sex</th>\n",
              "      <th>dataset</th>\n",
              "      <th>cp</th>\n",
              "      <th>trestbps</th>\n",
              "      <th>chol</th>\n",
              "      <th>fbs</th>\n",
              "      <th>restecg</th>\n",
              "      <th>thalch</th>\n",
              "      <th>exang</th>\n",
              "      <th>oldpeak</th>\n",
              "      <th>slope</th>\n",
              "      <th>ca</th>\n",
              "      <th>thal</th>\n",
              "      <th>num</th>\n",
              "    </tr>\n",
              "  </thead>\n",
              "  <tbody>\n",
              "    <tr>\n",
              "      <th>0</th>\n",
              "      <td>63</td>\n",
              "      <td>Male</td>\n",
              "      <td>Cleveland</td>\n",
              "      <td>typical angina</td>\n",
              "      <td>145.0</td>\n",
              "      <td>233.0</td>\n",
              "      <td>True</td>\n",
              "      <td>lv hypertrophy</td>\n",
              "      <td>150.0</td>\n",
              "      <td>False</td>\n",
              "      <td>2.3</td>\n",
              "      <td>downsloping</td>\n",
              "      <td>0.0</td>\n",
              "      <td>fixed defect</td>\n",
              "      <td>0</td>\n",
              "    </tr>\n",
              "    <tr>\n",
              "      <th>1</th>\n",
              "      <td>67</td>\n",
              "      <td>Male</td>\n",
              "      <td>Cleveland</td>\n",
              "      <td>asymptomatic</td>\n",
              "      <td>160.0</td>\n",
              "      <td>286.0</td>\n",
              "      <td>False</td>\n",
              "      <td>lv hypertrophy</td>\n",
              "      <td>108.0</td>\n",
              "      <td>True</td>\n",
              "      <td>1.5</td>\n",
              "      <td>flat</td>\n",
              "      <td>3.0</td>\n",
              "      <td>normal</td>\n",
              "      <td>2</td>\n",
              "    </tr>\n",
              "    <tr>\n",
              "      <th>2</th>\n",
              "      <td>67</td>\n",
              "      <td>Male</td>\n",
              "      <td>Cleveland</td>\n",
              "      <td>asymptomatic</td>\n",
              "      <td>120.0</td>\n",
              "      <td>229.0</td>\n",
              "      <td>False</td>\n",
              "      <td>lv hypertrophy</td>\n",
              "      <td>129.0</td>\n",
              "      <td>True</td>\n",
              "      <td>2.6</td>\n",
              "      <td>flat</td>\n",
              "      <td>2.0</td>\n",
              "      <td>reversable defect</td>\n",
              "      <td>1</td>\n",
              "    </tr>\n",
              "    <tr>\n",
              "      <th>3</th>\n",
              "      <td>37</td>\n",
              "      <td>Male</td>\n",
              "      <td>Cleveland</td>\n",
              "      <td>non-anginal</td>\n",
              "      <td>130.0</td>\n",
              "      <td>250.0</td>\n",
              "      <td>False</td>\n",
              "      <td>normal</td>\n",
              "      <td>187.0</td>\n",
              "      <td>False</td>\n",
              "      <td>3.5</td>\n",
              "      <td>downsloping</td>\n",
              "      <td>0.0</td>\n",
              "      <td>normal</td>\n",
              "      <td>0</td>\n",
              "    </tr>\n",
              "    <tr>\n",
              "      <th>4</th>\n",
              "      <td>41</td>\n",
              "      <td>Female</td>\n",
              "      <td>Cleveland</td>\n",
              "      <td>atypical angina</td>\n",
              "      <td>130.0</td>\n",
              "      <td>204.0</td>\n",
              "      <td>False</td>\n",
              "      <td>lv hypertrophy</td>\n",
              "      <td>172.0</td>\n",
              "      <td>False</td>\n",
              "      <td>1.4</td>\n",
              "      <td>upsloping</td>\n",
              "      <td>0.0</td>\n",
              "      <td>normal</td>\n",
              "      <td>0</td>\n",
              "    </tr>\n",
              "  </tbody>\n",
              "</table>\n",
              "</div>"
            ],
            "text/plain": [
              "   age     sex    dataset               cp  trestbps   chol    fbs  \\\n",
              "0   63    Male  Cleveland   typical angina     145.0  233.0   True   \n",
              "1   67    Male  Cleveland     asymptomatic     160.0  286.0  False   \n",
              "2   67    Male  Cleveland     asymptomatic     120.0  229.0  False   \n",
              "3   37    Male  Cleveland      non-anginal     130.0  250.0  False   \n",
              "4   41  Female  Cleveland  atypical angina     130.0  204.0  False   \n",
              "\n",
              "          restecg  thalch  exang  oldpeak        slope   ca  \\\n",
              "0  lv hypertrophy   150.0  False      2.3  downsloping  0.0   \n",
              "1  lv hypertrophy   108.0   True      1.5         flat  3.0   \n",
              "2  lv hypertrophy   129.0   True      2.6         flat  2.0   \n",
              "3          normal   187.0  False      3.5  downsloping  0.0   \n",
              "4  lv hypertrophy   172.0  False      1.4    upsloping  0.0   \n",
              "\n",
              "                thal  num  \n",
              "0       fixed defect    0  \n",
              "1             normal    2  \n",
              "2  reversable defect    1  \n",
              "3             normal    0  \n",
              "4             normal    0  "
            ]
          },
          "execution_count": 7,
          "metadata": {},
          "output_type": "execute_result"
        }
      ],
      "source": [
        "df.head()"
      ]
    },
    {
      "cell_type": "code",
      "execution_count": 8,
      "metadata": {
        "colab": {
          "base_uri": "https://localhost:8080/",
          "height": 554
        },
        "id": "ypONSRthaaqJ",
        "outputId": "05337b38-48bc-459a-a510-b1aa3db13c30"
      },
      "outputs": [
        {
          "data": {
            "application/vnd.microsoft.datawrangler.viewer.v0+json": {
              "columns": [
                {
                  "name": "index",
                  "rawType": "object",
                  "type": "string"
                },
                {
                  "name": "0",
                  "rawType": "int64",
                  "type": "integer"
                }
              ],
              "ref": "e1a8284e-a711-43ad-be71-4203684957be",
              "rows": [
                [
                  "age",
                  "0"
                ],
                [
                  "sex",
                  "0"
                ],
                [
                  "dataset",
                  "0"
                ],
                [
                  "cp",
                  "0"
                ],
                [
                  "trestbps",
                  "59"
                ],
                [
                  "chol",
                  "30"
                ],
                [
                  "fbs",
                  "90"
                ],
                [
                  "restecg",
                  "2"
                ],
                [
                  "thalch",
                  "55"
                ],
                [
                  "exang",
                  "55"
                ],
                [
                  "oldpeak",
                  "62"
                ],
                [
                  "slope",
                  "309"
                ],
                [
                  "ca",
                  "611"
                ],
                [
                  "thal",
                  "486"
                ],
                [
                  "num",
                  "0"
                ]
              ],
              "shape": {
                "columns": 1,
                "rows": 15
              }
            },
            "text/plain": [
              "age           0\n",
              "sex           0\n",
              "dataset       0\n",
              "cp            0\n",
              "trestbps     59\n",
              "chol         30\n",
              "fbs          90\n",
              "restecg       2\n",
              "thalch       55\n",
              "exang        55\n",
              "oldpeak      62\n",
              "slope       309\n",
              "ca          611\n",
              "thal        486\n",
              "num           0\n",
              "dtype: int64"
            ]
          },
          "execution_count": 8,
          "metadata": {},
          "output_type": "execute_result"
        }
      ],
      "source": [
        "df.isnull().sum()"
      ]
    },
    {
      "cell_type": "code",
      "execution_count": 9,
      "metadata": {
        "id": "kbfnnSc4aatb"
      },
      "outputs": [],
      "source": [
        "df['target']=df['num'].apply(lambda x:1 if x>0 else 0)"
      ]
    },
    {
      "cell_type": "code",
      "execution_count": 10,
      "metadata": {
        "id": "k57Ior-waavq"
      },
      "outputs": [],
      "source": [
        "df.drop(columns='num',inplace=True)"
      ]
    },
    {
      "cell_type": "code",
      "execution_count": 11,
      "metadata": {
        "colab": {
          "base_uri": "https://localhost:8080/",
          "height": 206
        },
        "id": "vvA1MMlAaazC",
        "outputId": "05b936b5-ebbd-4a02-c22b-d26ac1970acd"
      },
      "outputs": [
        {
          "data": {
            "application/vnd.microsoft.datawrangler.viewer.v0+json": {
              "columns": [
                {
                  "name": "index",
                  "rawType": "int64",
                  "type": "integer"
                },
                {
                  "name": "age",
                  "rawType": "int64",
                  "type": "integer"
                },
                {
                  "name": "sex",
                  "rawType": "object",
                  "type": "string"
                },
                {
                  "name": "dataset",
                  "rawType": "object",
                  "type": "string"
                },
                {
                  "name": "cp",
                  "rawType": "object",
                  "type": "string"
                },
                {
                  "name": "trestbps",
                  "rawType": "float64",
                  "type": "float"
                },
                {
                  "name": "chol",
                  "rawType": "float64",
                  "type": "float"
                },
                {
                  "name": "fbs",
                  "rawType": "object",
                  "type": "unknown"
                },
                {
                  "name": "restecg",
                  "rawType": "object",
                  "type": "string"
                },
                {
                  "name": "thalch",
                  "rawType": "float64",
                  "type": "float"
                },
                {
                  "name": "exang",
                  "rawType": "object",
                  "type": "unknown"
                },
                {
                  "name": "oldpeak",
                  "rawType": "float64",
                  "type": "float"
                },
                {
                  "name": "slope",
                  "rawType": "object",
                  "type": "string"
                },
                {
                  "name": "ca",
                  "rawType": "float64",
                  "type": "float"
                },
                {
                  "name": "thal",
                  "rawType": "object",
                  "type": "string"
                },
                {
                  "name": "target",
                  "rawType": "int64",
                  "type": "integer"
                }
              ],
              "ref": "6fa76251-aba9-46f3-82f0-9008597853d2",
              "rows": [
                [
                  "0",
                  "63",
                  "Male",
                  "Cleveland",
                  "typical angina",
                  "145.0",
                  "233.0",
                  "True",
                  "lv hypertrophy",
                  "150.0",
                  "False",
                  "2.3",
                  "downsloping",
                  "0.0",
                  "fixed defect",
                  "0"
                ],
                [
                  "1",
                  "67",
                  "Male",
                  "Cleveland",
                  "asymptomatic",
                  "160.0",
                  "286.0",
                  "False",
                  "lv hypertrophy",
                  "108.0",
                  "True",
                  "1.5",
                  "flat",
                  "3.0",
                  "normal",
                  "1"
                ],
                [
                  "2",
                  "67",
                  "Male",
                  "Cleveland",
                  "asymptomatic",
                  "120.0",
                  "229.0",
                  "False",
                  "lv hypertrophy",
                  "129.0",
                  "True",
                  "2.6",
                  "flat",
                  "2.0",
                  "reversable defect",
                  "1"
                ],
                [
                  "3",
                  "37",
                  "Male",
                  "Cleveland",
                  "non-anginal",
                  "130.0",
                  "250.0",
                  "False",
                  "normal",
                  "187.0",
                  "False",
                  "3.5",
                  "downsloping",
                  "0.0",
                  "normal",
                  "0"
                ],
                [
                  "4",
                  "41",
                  "Female",
                  "Cleveland",
                  "atypical angina",
                  "130.0",
                  "204.0",
                  "False",
                  "lv hypertrophy",
                  "172.0",
                  "False",
                  "1.4",
                  "upsloping",
                  "0.0",
                  "normal",
                  "0"
                ]
              ],
              "shape": {
                "columns": 15,
                "rows": 5
              }
            },
            "text/html": [
              "<div>\n",
              "<style scoped>\n",
              "    .dataframe tbody tr th:only-of-type {\n",
              "        vertical-align: middle;\n",
              "    }\n",
              "\n",
              "    .dataframe tbody tr th {\n",
              "        vertical-align: top;\n",
              "    }\n",
              "\n",
              "    .dataframe thead th {\n",
              "        text-align: right;\n",
              "    }\n",
              "</style>\n",
              "<table border=\"1\" class=\"dataframe\">\n",
              "  <thead>\n",
              "    <tr style=\"text-align: right;\">\n",
              "      <th></th>\n",
              "      <th>age</th>\n",
              "      <th>sex</th>\n",
              "      <th>dataset</th>\n",
              "      <th>cp</th>\n",
              "      <th>trestbps</th>\n",
              "      <th>chol</th>\n",
              "      <th>fbs</th>\n",
              "      <th>restecg</th>\n",
              "      <th>thalch</th>\n",
              "      <th>exang</th>\n",
              "      <th>oldpeak</th>\n",
              "      <th>slope</th>\n",
              "      <th>ca</th>\n",
              "      <th>thal</th>\n",
              "      <th>target</th>\n",
              "    </tr>\n",
              "  </thead>\n",
              "  <tbody>\n",
              "    <tr>\n",
              "      <th>0</th>\n",
              "      <td>63</td>\n",
              "      <td>Male</td>\n",
              "      <td>Cleveland</td>\n",
              "      <td>typical angina</td>\n",
              "      <td>145.0</td>\n",
              "      <td>233.0</td>\n",
              "      <td>True</td>\n",
              "      <td>lv hypertrophy</td>\n",
              "      <td>150.0</td>\n",
              "      <td>False</td>\n",
              "      <td>2.3</td>\n",
              "      <td>downsloping</td>\n",
              "      <td>0.0</td>\n",
              "      <td>fixed defect</td>\n",
              "      <td>0</td>\n",
              "    </tr>\n",
              "    <tr>\n",
              "      <th>1</th>\n",
              "      <td>67</td>\n",
              "      <td>Male</td>\n",
              "      <td>Cleveland</td>\n",
              "      <td>asymptomatic</td>\n",
              "      <td>160.0</td>\n",
              "      <td>286.0</td>\n",
              "      <td>False</td>\n",
              "      <td>lv hypertrophy</td>\n",
              "      <td>108.0</td>\n",
              "      <td>True</td>\n",
              "      <td>1.5</td>\n",
              "      <td>flat</td>\n",
              "      <td>3.0</td>\n",
              "      <td>normal</td>\n",
              "      <td>1</td>\n",
              "    </tr>\n",
              "    <tr>\n",
              "      <th>2</th>\n",
              "      <td>67</td>\n",
              "      <td>Male</td>\n",
              "      <td>Cleveland</td>\n",
              "      <td>asymptomatic</td>\n",
              "      <td>120.0</td>\n",
              "      <td>229.0</td>\n",
              "      <td>False</td>\n",
              "      <td>lv hypertrophy</td>\n",
              "      <td>129.0</td>\n",
              "      <td>True</td>\n",
              "      <td>2.6</td>\n",
              "      <td>flat</td>\n",
              "      <td>2.0</td>\n",
              "      <td>reversable defect</td>\n",
              "      <td>1</td>\n",
              "    </tr>\n",
              "    <tr>\n",
              "      <th>3</th>\n",
              "      <td>37</td>\n",
              "      <td>Male</td>\n",
              "      <td>Cleveland</td>\n",
              "      <td>non-anginal</td>\n",
              "      <td>130.0</td>\n",
              "      <td>250.0</td>\n",
              "      <td>False</td>\n",
              "      <td>normal</td>\n",
              "      <td>187.0</td>\n",
              "      <td>False</td>\n",
              "      <td>3.5</td>\n",
              "      <td>downsloping</td>\n",
              "      <td>0.0</td>\n",
              "      <td>normal</td>\n",
              "      <td>0</td>\n",
              "    </tr>\n",
              "    <tr>\n",
              "      <th>4</th>\n",
              "      <td>41</td>\n",
              "      <td>Female</td>\n",
              "      <td>Cleveland</td>\n",
              "      <td>atypical angina</td>\n",
              "      <td>130.0</td>\n",
              "      <td>204.0</td>\n",
              "      <td>False</td>\n",
              "      <td>lv hypertrophy</td>\n",
              "      <td>172.0</td>\n",
              "      <td>False</td>\n",
              "      <td>1.4</td>\n",
              "      <td>upsloping</td>\n",
              "      <td>0.0</td>\n",
              "      <td>normal</td>\n",
              "      <td>0</td>\n",
              "    </tr>\n",
              "  </tbody>\n",
              "</table>\n",
              "</div>"
            ],
            "text/plain": [
              "   age     sex    dataset               cp  trestbps   chol    fbs  \\\n",
              "0   63    Male  Cleveland   typical angina     145.0  233.0   True   \n",
              "1   67    Male  Cleveland     asymptomatic     160.0  286.0  False   \n",
              "2   67    Male  Cleveland     asymptomatic     120.0  229.0  False   \n",
              "3   37    Male  Cleveland      non-anginal     130.0  250.0  False   \n",
              "4   41  Female  Cleveland  atypical angina     130.0  204.0  False   \n",
              "\n",
              "          restecg  thalch  exang  oldpeak        slope   ca  \\\n",
              "0  lv hypertrophy   150.0  False      2.3  downsloping  0.0   \n",
              "1  lv hypertrophy   108.0   True      1.5         flat  3.0   \n",
              "2  lv hypertrophy   129.0   True      2.6         flat  2.0   \n",
              "3          normal   187.0  False      3.5  downsloping  0.0   \n",
              "4  lv hypertrophy   172.0  False      1.4    upsloping  0.0   \n",
              "\n",
              "                thal  target  \n",
              "0       fixed defect       0  \n",
              "1             normal       1  \n",
              "2  reversable defect       1  \n",
              "3             normal       0  \n",
              "4             normal       0  "
            ]
          },
          "execution_count": 11,
          "metadata": {},
          "output_type": "execute_result"
        }
      ],
      "source": [
        "df.head()"
      ]
    },
    {
      "cell_type": "code",
      "execution_count": 12,
      "metadata": {
        "colab": {
          "base_uri": "https://localhost:8080/"
        },
        "id": "C4P0SrlabuiM",
        "outputId": "b0f4e643-eb8c-4fdf-e83b-b4a5d770e441"
      },
      "outputs": [],
      "source": [
        "num_cols = df.select_dtypes(include=['float64', 'int64']).columns\n",
        "for col in num_cols:\n",
        "    df[col].fillna(df[col].median(), inplace=True)"
      ]
    },
    {
      "cell_type": "code",
      "execution_count": 13,
      "metadata": {
        "colab": {
          "base_uri": "https://localhost:8080/"
        },
        "id": "y6GGGLqJbf8I",
        "outputId": "9828149d-a7f4-494b-8415-44bd471b5ebc"
      },
      "outputs": [],
      "source": [
        "cat_cols = df.select_dtypes(include=['object', 'bool']).columns\n",
        "for col in cat_cols:\n",
        "    df[col].fillna(df[col].mode()[0], inplace=True)"
      ]
    },
    {
      "cell_type": "code",
      "execution_count": 14,
      "metadata": {
        "colab": {
          "base_uri": "https://localhost:8080/",
          "height": 423
        },
        "id": "QYLTLfuVcCpU",
        "outputId": "872ecb39-7284-4266-eff7-b7ee28da7629"
      },
      "outputs": [
        {
          "data": {
            "application/vnd.microsoft.datawrangler.viewer.v0+json": {
              "columns": [
                {
                  "name": "index",
                  "rawType": "int64",
                  "type": "integer"
                },
                {
                  "name": "age",
                  "rawType": "int64",
                  "type": "integer"
                },
                {
                  "name": "sex",
                  "rawType": "object",
                  "type": "string"
                },
                {
                  "name": "dataset",
                  "rawType": "object",
                  "type": "string"
                },
                {
                  "name": "cp",
                  "rawType": "object",
                  "type": "string"
                },
                {
                  "name": "trestbps",
                  "rawType": "float64",
                  "type": "float"
                },
                {
                  "name": "chol",
                  "rawType": "float64",
                  "type": "float"
                },
                {
                  "name": "fbs",
                  "rawType": "bool",
                  "type": "boolean"
                },
                {
                  "name": "restecg",
                  "rawType": "object",
                  "type": "string"
                },
                {
                  "name": "thalch",
                  "rawType": "float64",
                  "type": "float"
                },
                {
                  "name": "exang",
                  "rawType": "bool",
                  "type": "boolean"
                },
                {
                  "name": "oldpeak",
                  "rawType": "float64",
                  "type": "float"
                },
                {
                  "name": "slope",
                  "rawType": "object",
                  "type": "string"
                },
                {
                  "name": "ca",
                  "rawType": "float64",
                  "type": "float"
                },
                {
                  "name": "thal",
                  "rawType": "object",
                  "type": "string"
                },
                {
                  "name": "target",
                  "rawType": "int64",
                  "type": "integer"
                }
              ],
              "ref": "1b580d34-2656-4087-849e-ead63c3b9946",
              "rows": [
                [
                  "0",
                  "63",
                  "Male",
                  "Cleveland",
                  "typical angina",
                  "145.0",
                  "233.0",
                  "True",
                  "lv hypertrophy",
                  "150.0",
                  "False",
                  "2.3",
                  "downsloping",
                  "0.0",
                  "fixed defect",
                  "0"
                ],
                [
                  "1",
                  "67",
                  "Male",
                  "Cleveland",
                  "asymptomatic",
                  "160.0",
                  "286.0",
                  "False",
                  "lv hypertrophy",
                  "108.0",
                  "True",
                  "1.5",
                  "flat",
                  "3.0",
                  "normal",
                  "1"
                ],
                [
                  "2",
                  "67",
                  "Male",
                  "Cleveland",
                  "asymptomatic",
                  "120.0",
                  "229.0",
                  "False",
                  "lv hypertrophy",
                  "129.0",
                  "True",
                  "2.6",
                  "flat",
                  "2.0",
                  "reversable defect",
                  "1"
                ],
                [
                  "3",
                  "37",
                  "Male",
                  "Cleveland",
                  "non-anginal",
                  "130.0",
                  "250.0",
                  "False",
                  "normal",
                  "187.0",
                  "False",
                  "3.5",
                  "downsloping",
                  "0.0",
                  "normal",
                  "0"
                ],
                [
                  "4",
                  "41",
                  "Female",
                  "Cleveland",
                  "atypical angina",
                  "130.0",
                  "204.0",
                  "False",
                  "lv hypertrophy",
                  "172.0",
                  "False",
                  "1.4",
                  "upsloping",
                  "0.0",
                  "normal",
                  "0"
                ],
                [
                  "5",
                  "56",
                  "Male",
                  "Cleveland",
                  "atypical angina",
                  "120.0",
                  "236.0",
                  "False",
                  "normal",
                  "178.0",
                  "False",
                  "0.8",
                  "upsloping",
                  "0.0",
                  "normal",
                  "0"
                ],
                [
                  "6",
                  "62",
                  "Female",
                  "Cleveland",
                  "asymptomatic",
                  "140.0",
                  "268.0",
                  "False",
                  "lv hypertrophy",
                  "160.0",
                  "False",
                  "3.6",
                  "downsloping",
                  "2.0",
                  "normal",
                  "1"
                ],
                [
                  "7",
                  "57",
                  "Female",
                  "Cleveland",
                  "asymptomatic",
                  "120.0",
                  "354.0",
                  "False",
                  "normal",
                  "163.0",
                  "True",
                  "0.6",
                  "upsloping",
                  "0.0",
                  "normal",
                  "0"
                ],
                [
                  "8",
                  "63",
                  "Male",
                  "Cleveland",
                  "asymptomatic",
                  "130.0",
                  "254.0",
                  "False",
                  "lv hypertrophy",
                  "147.0",
                  "False",
                  "1.4",
                  "flat",
                  "1.0",
                  "reversable defect",
                  "1"
                ],
                [
                  "9",
                  "53",
                  "Male",
                  "Cleveland",
                  "asymptomatic",
                  "140.0",
                  "203.0",
                  "True",
                  "lv hypertrophy",
                  "155.0",
                  "True",
                  "3.1",
                  "downsloping",
                  "0.0",
                  "reversable defect",
                  "1"
                ],
                [
                  "10",
                  "57",
                  "Male",
                  "Cleveland",
                  "asymptomatic",
                  "140.0",
                  "192.0",
                  "False",
                  "normal",
                  "148.0",
                  "False",
                  "0.4",
                  "flat",
                  "0.0",
                  "fixed defect",
                  "0"
                ],
                [
                  "11",
                  "56",
                  "Female",
                  "Cleveland",
                  "atypical angina",
                  "140.0",
                  "294.0",
                  "False",
                  "lv hypertrophy",
                  "153.0",
                  "False",
                  "1.3",
                  "flat",
                  "0.0",
                  "normal",
                  "0"
                ],
                [
                  "12",
                  "56",
                  "Male",
                  "Cleveland",
                  "non-anginal",
                  "130.0",
                  "256.0",
                  "True",
                  "lv hypertrophy",
                  "142.0",
                  "True",
                  "0.6",
                  "flat",
                  "1.0",
                  "fixed defect",
                  "1"
                ],
                [
                  "13",
                  "44",
                  "Male",
                  "Cleveland",
                  "atypical angina",
                  "120.0",
                  "263.0",
                  "False",
                  "normal",
                  "173.0",
                  "False",
                  "0.0",
                  "upsloping",
                  "0.0",
                  "reversable defect",
                  "0"
                ],
                [
                  "14",
                  "52",
                  "Male",
                  "Cleveland",
                  "non-anginal",
                  "172.0",
                  "199.0",
                  "True",
                  "normal",
                  "162.0",
                  "False",
                  "0.5",
                  "upsloping",
                  "0.0",
                  "reversable defect",
                  "0"
                ],
                [
                  "15",
                  "57",
                  "Male",
                  "Cleveland",
                  "non-anginal",
                  "150.0",
                  "168.0",
                  "False",
                  "normal",
                  "174.0",
                  "False",
                  "1.6",
                  "upsloping",
                  "0.0",
                  "normal",
                  "0"
                ],
                [
                  "16",
                  "48",
                  "Male",
                  "Cleveland",
                  "atypical angina",
                  "110.0",
                  "229.0",
                  "False",
                  "normal",
                  "168.0",
                  "False",
                  "1.0",
                  "downsloping",
                  "0.0",
                  "reversable defect",
                  "1"
                ],
                [
                  "17",
                  "54",
                  "Male",
                  "Cleveland",
                  "asymptomatic",
                  "140.0",
                  "239.0",
                  "False",
                  "normal",
                  "160.0",
                  "False",
                  "1.2",
                  "upsloping",
                  "0.0",
                  "normal",
                  "0"
                ],
                [
                  "18",
                  "48",
                  "Female",
                  "Cleveland",
                  "non-anginal",
                  "130.0",
                  "275.0",
                  "False",
                  "normal",
                  "139.0",
                  "False",
                  "0.2",
                  "upsloping",
                  "0.0",
                  "normal",
                  "0"
                ],
                [
                  "19",
                  "49",
                  "Male",
                  "Cleveland",
                  "atypical angina",
                  "130.0",
                  "266.0",
                  "False",
                  "normal",
                  "171.0",
                  "False",
                  "0.6",
                  "upsloping",
                  "0.0",
                  "normal",
                  "0"
                ],
                [
                  "20",
                  "64",
                  "Male",
                  "Cleveland",
                  "typical angina",
                  "110.0",
                  "211.0",
                  "False",
                  "lv hypertrophy",
                  "144.0",
                  "True",
                  "1.8",
                  "flat",
                  "0.0",
                  "normal",
                  "0"
                ],
                [
                  "21",
                  "58",
                  "Female",
                  "Cleveland",
                  "typical angina",
                  "150.0",
                  "283.0",
                  "True",
                  "lv hypertrophy",
                  "162.0",
                  "False",
                  "1.0",
                  "upsloping",
                  "0.0",
                  "normal",
                  "0"
                ],
                [
                  "22",
                  "58",
                  "Male",
                  "Cleveland",
                  "atypical angina",
                  "120.0",
                  "284.0",
                  "False",
                  "lv hypertrophy",
                  "160.0",
                  "False",
                  "1.8",
                  "flat",
                  "0.0",
                  "normal",
                  "1"
                ],
                [
                  "23",
                  "58",
                  "Male",
                  "Cleveland",
                  "non-anginal",
                  "132.0",
                  "224.0",
                  "False",
                  "lv hypertrophy",
                  "173.0",
                  "False",
                  "3.2",
                  "upsloping",
                  "2.0",
                  "reversable defect",
                  "1"
                ],
                [
                  "24",
                  "60",
                  "Male",
                  "Cleveland",
                  "asymptomatic",
                  "130.0",
                  "206.0",
                  "False",
                  "lv hypertrophy",
                  "132.0",
                  "True",
                  "2.4",
                  "flat",
                  "2.0",
                  "reversable defect",
                  "1"
                ],
                [
                  "25",
                  "50",
                  "Female",
                  "Cleveland",
                  "non-anginal",
                  "120.0",
                  "219.0",
                  "False",
                  "normal",
                  "158.0",
                  "False",
                  "1.6",
                  "flat",
                  "0.0",
                  "normal",
                  "0"
                ],
                [
                  "26",
                  "58",
                  "Female",
                  "Cleveland",
                  "non-anginal",
                  "120.0",
                  "340.0",
                  "False",
                  "normal",
                  "172.0",
                  "False",
                  "0.0",
                  "upsloping",
                  "0.0",
                  "normal",
                  "0"
                ],
                [
                  "27",
                  "66",
                  "Female",
                  "Cleveland",
                  "typical angina",
                  "150.0",
                  "226.0",
                  "False",
                  "normal",
                  "114.0",
                  "False",
                  "2.6",
                  "downsloping",
                  "0.0",
                  "normal",
                  "0"
                ],
                [
                  "28",
                  "43",
                  "Male",
                  "Cleveland",
                  "asymptomatic",
                  "150.0",
                  "247.0",
                  "False",
                  "normal",
                  "171.0",
                  "False",
                  "1.5",
                  "upsloping",
                  "0.0",
                  "normal",
                  "0"
                ],
                [
                  "29",
                  "40",
                  "Male",
                  "Cleveland",
                  "asymptomatic",
                  "110.0",
                  "167.0",
                  "False",
                  "lv hypertrophy",
                  "114.0",
                  "True",
                  "2.0",
                  "flat",
                  "0.0",
                  "reversable defect",
                  "1"
                ],
                [
                  "30",
                  "69",
                  "Female",
                  "Cleveland",
                  "typical angina",
                  "140.0",
                  "239.0",
                  "False",
                  "normal",
                  "151.0",
                  "False",
                  "1.8",
                  "upsloping",
                  "2.0",
                  "normal",
                  "0"
                ],
                [
                  "31",
                  "60",
                  "Male",
                  "Cleveland",
                  "asymptomatic",
                  "117.0",
                  "230.0",
                  "True",
                  "normal",
                  "160.0",
                  "True",
                  "1.4",
                  "upsloping",
                  "2.0",
                  "reversable defect",
                  "1"
                ],
                [
                  "32",
                  "64",
                  "Male",
                  "Cleveland",
                  "non-anginal",
                  "140.0",
                  "335.0",
                  "False",
                  "normal",
                  "158.0",
                  "False",
                  "0.0",
                  "upsloping",
                  "0.0",
                  "normal",
                  "1"
                ],
                [
                  "33",
                  "59",
                  "Male",
                  "Cleveland",
                  "asymptomatic",
                  "135.0",
                  "234.0",
                  "False",
                  "normal",
                  "161.0",
                  "False",
                  "0.5",
                  "flat",
                  "0.0",
                  "reversable defect",
                  "0"
                ],
                [
                  "34",
                  "44",
                  "Male",
                  "Cleveland",
                  "non-anginal",
                  "130.0",
                  "233.0",
                  "False",
                  "normal",
                  "179.0",
                  "True",
                  "0.4",
                  "upsloping",
                  "0.0",
                  "normal",
                  "0"
                ],
                [
                  "35",
                  "42",
                  "Male",
                  "Cleveland",
                  "asymptomatic",
                  "140.0",
                  "226.0",
                  "False",
                  "normal",
                  "178.0",
                  "False",
                  "0.0",
                  "upsloping",
                  "0.0",
                  "normal",
                  "0"
                ],
                [
                  "36",
                  "43",
                  "Male",
                  "Cleveland",
                  "asymptomatic",
                  "120.0",
                  "177.0",
                  "False",
                  "lv hypertrophy",
                  "120.0",
                  "True",
                  "2.5",
                  "flat",
                  "0.0",
                  "reversable defect",
                  "1"
                ],
                [
                  "37",
                  "57",
                  "Male",
                  "Cleveland",
                  "asymptomatic",
                  "150.0",
                  "276.0",
                  "False",
                  "lv hypertrophy",
                  "112.0",
                  "True",
                  "0.6",
                  "flat",
                  "1.0",
                  "fixed defect",
                  "1"
                ],
                [
                  "38",
                  "55",
                  "Male",
                  "Cleveland",
                  "asymptomatic",
                  "132.0",
                  "353.0",
                  "False",
                  "normal",
                  "132.0",
                  "True",
                  "1.2",
                  "flat",
                  "1.0",
                  "reversable defect",
                  "1"
                ],
                [
                  "39",
                  "61",
                  "Male",
                  "Cleveland",
                  "non-anginal",
                  "150.0",
                  "243.0",
                  "True",
                  "normal",
                  "137.0",
                  "True",
                  "1.0",
                  "flat",
                  "0.0",
                  "normal",
                  "0"
                ],
                [
                  "40",
                  "65",
                  "Female",
                  "Cleveland",
                  "asymptomatic",
                  "150.0",
                  "225.0",
                  "False",
                  "lv hypertrophy",
                  "114.0",
                  "False",
                  "1.0",
                  "flat",
                  "3.0",
                  "reversable defect",
                  "1"
                ],
                [
                  "41",
                  "40",
                  "Male",
                  "Cleveland",
                  "typical angina",
                  "140.0",
                  "199.0",
                  "False",
                  "normal",
                  "178.0",
                  "True",
                  "1.4",
                  "upsloping",
                  "0.0",
                  "reversable defect",
                  "0"
                ],
                [
                  "42",
                  "71",
                  "Female",
                  "Cleveland",
                  "atypical angina",
                  "160.0",
                  "302.0",
                  "False",
                  "normal",
                  "162.0",
                  "False",
                  "0.4",
                  "upsloping",
                  "2.0",
                  "normal",
                  "0"
                ],
                [
                  "43",
                  "59",
                  "Male",
                  "Cleveland",
                  "non-anginal",
                  "150.0",
                  "212.0",
                  "True",
                  "normal",
                  "157.0",
                  "False",
                  "1.6",
                  "upsloping",
                  "0.0",
                  "normal",
                  "0"
                ],
                [
                  "44",
                  "61",
                  "Female",
                  "Cleveland",
                  "asymptomatic",
                  "130.0",
                  "330.0",
                  "False",
                  "lv hypertrophy",
                  "169.0",
                  "False",
                  "0.0",
                  "upsloping",
                  "0.0",
                  "normal",
                  "1"
                ],
                [
                  "45",
                  "58",
                  "Male",
                  "Cleveland",
                  "non-anginal",
                  "112.0",
                  "230.0",
                  "False",
                  "lv hypertrophy",
                  "165.0",
                  "False",
                  "2.5",
                  "flat",
                  "1.0",
                  "reversable defect",
                  "1"
                ],
                [
                  "46",
                  "51",
                  "Male",
                  "Cleveland",
                  "non-anginal",
                  "110.0",
                  "175.0",
                  "False",
                  "normal",
                  "123.0",
                  "False",
                  "0.6",
                  "upsloping",
                  "0.0",
                  "normal",
                  "0"
                ],
                [
                  "47",
                  "50",
                  "Male",
                  "Cleveland",
                  "asymptomatic",
                  "150.0",
                  "243.0",
                  "False",
                  "lv hypertrophy",
                  "128.0",
                  "False",
                  "2.6",
                  "flat",
                  "0.0",
                  "reversable defect",
                  "1"
                ],
                [
                  "48",
                  "65",
                  "Female",
                  "Cleveland",
                  "non-anginal",
                  "140.0",
                  "417.0",
                  "True",
                  "lv hypertrophy",
                  "157.0",
                  "False",
                  "0.8",
                  "upsloping",
                  "1.0",
                  "normal",
                  "0"
                ],
                [
                  "49",
                  "53",
                  "Male",
                  "Cleveland",
                  "non-anginal",
                  "130.0",
                  "197.0",
                  "True",
                  "lv hypertrophy",
                  "152.0",
                  "False",
                  "1.2",
                  "downsloping",
                  "0.0",
                  "normal",
                  "0"
                ]
              ],
              "shape": {
                "columns": 15,
                "rows": 920
              }
            },
            "text/html": [
              "<div>\n",
              "<style scoped>\n",
              "    .dataframe tbody tr th:only-of-type {\n",
              "        vertical-align: middle;\n",
              "    }\n",
              "\n",
              "    .dataframe tbody tr th {\n",
              "        vertical-align: top;\n",
              "    }\n",
              "\n",
              "    .dataframe thead th {\n",
              "        text-align: right;\n",
              "    }\n",
              "</style>\n",
              "<table border=\"1\" class=\"dataframe\">\n",
              "  <thead>\n",
              "    <tr style=\"text-align: right;\">\n",
              "      <th></th>\n",
              "      <th>age</th>\n",
              "      <th>sex</th>\n",
              "      <th>dataset</th>\n",
              "      <th>cp</th>\n",
              "      <th>trestbps</th>\n",
              "      <th>chol</th>\n",
              "      <th>fbs</th>\n",
              "      <th>restecg</th>\n",
              "      <th>thalch</th>\n",
              "      <th>exang</th>\n",
              "      <th>oldpeak</th>\n",
              "      <th>slope</th>\n",
              "      <th>ca</th>\n",
              "      <th>thal</th>\n",
              "      <th>target</th>\n",
              "    </tr>\n",
              "  </thead>\n",
              "  <tbody>\n",
              "    <tr>\n",
              "      <th>0</th>\n",
              "      <td>63</td>\n",
              "      <td>Male</td>\n",
              "      <td>Cleveland</td>\n",
              "      <td>typical angina</td>\n",
              "      <td>145.0</td>\n",
              "      <td>233.0</td>\n",
              "      <td>True</td>\n",
              "      <td>lv hypertrophy</td>\n",
              "      <td>150.0</td>\n",
              "      <td>False</td>\n",
              "      <td>2.3</td>\n",
              "      <td>downsloping</td>\n",
              "      <td>0.0</td>\n",
              "      <td>fixed defect</td>\n",
              "      <td>0</td>\n",
              "    </tr>\n",
              "    <tr>\n",
              "      <th>1</th>\n",
              "      <td>67</td>\n",
              "      <td>Male</td>\n",
              "      <td>Cleveland</td>\n",
              "      <td>asymptomatic</td>\n",
              "      <td>160.0</td>\n",
              "      <td>286.0</td>\n",
              "      <td>False</td>\n",
              "      <td>lv hypertrophy</td>\n",
              "      <td>108.0</td>\n",
              "      <td>True</td>\n",
              "      <td>1.5</td>\n",
              "      <td>flat</td>\n",
              "      <td>3.0</td>\n",
              "      <td>normal</td>\n",
              "      <td>1</td>\n",
              "    </tr>\n",
              "    <tr>\n",
              "      <th>2</th>\n",
              "      <td>67</td>\n",
              "      <td>Male</td>\n",
              "      <td>Cleveland</td>\n",
              "      <td>asymptomatic</td>\n",
              "      <td>120.0</td>\n",
              "      <td>229.0</td>\n",
              "      <td>False</td>\n",
              "      <td>lv hypertrophy</td>\n",
              "      <td>129.0</td>\n",
              "      <td>True</td>\n",
              "      <td>2.6</td>\n",
              "      <td>flat</td>\n",
              "      <td>2.0</td>\n",
              "      <td>reversable defect</td>\n",
              "      <td>1</td>\n",
              "    </tr>\n",
              "    <tr>\n",
              "      <th>3</th>\n",
              "      <td>37</td>\n",
              "      <td>Male</td>\n",
              "      <td>Cleveland</td>\n",
              "      <td>non-anginal</td>\n",
              "      <td>130.0</td>\n",
              "      <td>250.0</td>\n",
              "      <td>False</td>\n",
              "      <td>normal</td>\n",
              "      <td>187.0</td>\n",
              "      <td>False</td>\n",
              "      <td>3.5</td>\n",
              "      <td>downsloping</td>\n",
              "      <td>0.0</td>\n",
              "      <td>normal</td>\n",
              "      <td>0</td>\n",
              "    </tr>\n",
              "    <tr>\n",
              "      <th>4</th>\n",
              "      <td>41</td>\n",
              "      <td>Female</td>\n",
              "      <td>Cleveland</td>\n",
              "      <td>atypical angina</td>\n",
              "      <td>130.0</td>\n",
              "      <td>204.0</td>\n",
              "      <td>False</td>\n",
              "      <td>lv hypertrophy</td>\n",
              "      <td>172.0</td>\n",
              "      <td>False</td>\n",
              "      <td>1.4</td>\n",
              "      <td>upsloping</td>\n",
              "      <td>0.0</td>\n",
              "      <td>normal</td>\n",
              "      <td>0</td>\n",
              "    </tr>\n",
              "    <tr>\n",
              "      <th>...</th>\n",
              "      <td>...</td>\n",
              "      <td>...</td>\n",
              "      <td>...</td>\n",
              "      <td>...</td>\n",
              "      <td>...</td>\n",
              "      <td>...</td>\n",
              "      <td>...</td>\n",
              "      <td>...</td>\n",
              "      <td>...</td>\n",
              "      <td>...</td>\n",
              "      <td>...</td>\n",
              "      <td>...</td>\n",
              "      <td>...</td>\n",
              "      <td>...</td>\n",
              "      <td>...</td>\n",
              "    </tr>\n",
              "    <tr>\n",
              "      <th>915</th>\n",
              "      <td>54</td>\n",
              "      <td>Female</td>\n",
              "      <td>VA Long Beach</td>\n",
              "      <td>asymptomatic</td>\n",
              "      <td>127.0</td>\n",
              "      <td>333.0</td>\n",
              "      <td>True</td>\n",
              "      <td>st-t abnormality</td>\n",
              "      <td>154.0</td>\n",
              "      <td>False</td>\n",
              "      <td>0.0</td>\n",
              "      <td>flat</td>\n",
              "      <td>0.0</td>\n",
              "      <td>normal</td>\n",
              "      <td>1</td>\n",
              "    </tr>\n",
              "    <tr>\n",
              "      <th>916</th>\n",
              "      <td>62</td>\n",
              "      <td>Male</td>\n",
              "      <td>VA Long Beach</td>\n",
              "      <td>typical angina</td>\n",
              "      <td>130.0</td>\n",
              "      <td>139.0</td>\n",
              "      <td>False</td>\n",
              "      <td>st-t abnormality</td>\n",
              "      <td>140.0</td>\n",
              "      <td>False</td>\n",
              "      <td>0.5</td>\n",
              "      <td>flat</td>\n",
              "      <td>0.0</td>\n",
              "      <td>normal</td>\n",
              "      <td>0</td>\n",
              "    </tr>\n",
              "    <tr>\n",
              "      <th>917</th>\n",
              "      <td>55</td>\n",
              "      <td>Male</td>\n",
              "      <td>VA Long Beach</td>\n",
              "      <td>asymptomatic</td>\n",
              "      <td>122.0</td>\n",
              "      <td>223.0</td>\n",
              "      <td>True</td>\n",
              "      <td>st-t abnormality</td>\n",
              "      <td>100.0</td>\n",
              "      <td>False</td>\n",
              "      <td>0.0</td>\n",
              "      <td>flat</td>\n",
              "      <td>0.0</td>\n",
              "      <td>fixed defect</td>\n",
              "      <td>1</td>\n",
              "    </tr>\n",
              "    <tr>\n",
              "      <th>918</th>\n",
              "      <td>58</td>\n",
              "      <td>Male</td>\n",
              "      <td>VA Long Beach</td>\n",
              "      <td>asymptomatic</td>\n",
              "      <td>130.0</td>\n",
              "      <td>385.0</td>\n",
              "      <td>True</td>\n",
              "      <td>lv hypertrophy</td>\n",
              "      <td>140.0</td>\n",
              "      <td>False</td>\n",
              "      <td>0.5</td>\n",
              "      <td>flat</td>\n",
              "      <td>0.0</td>\n",
              "      <td>normal</td>\n",
              "      <td>0</td>\n",
              "    </tr>\n",
              "    <tr>\n",
              "      <th>919</th>\n",
              "      <td>62</td>\n",
              "      <td>Male</td>\n",
              "      <td>VA Long Beach</td>\n",
              "      <td>atypical angina</td>\n",
              "      <td>120.0</td>\n",
              "      <td>254.0</td>\n",
              "      <td>False</td>\n",
              "      <td>lv hypertrophy</td>\n",
              "      <td>93.0</td>\n",
              "      <td>True</td>\n",
              "      <td>0.0</td>\n",
              "      <td>flat</td>\n",
              "      <td>0.0</td>\n",
              "      <td>normal</td>\n",
              "      <td>1</td>\n",
              "    </tr>\n",
              "  </tbody>\n",
              "</table>\n",
              "<p>920 rows × 15 columns</p>\n",
              "</div>"
            ],
            "text/plain": [
              "     age     sex        dataset               cp  trestbps   chol    fbs  \\\n",
              "0     63    Male      Cleveland   typical angina     145.0  233.0   True   \n",
              "1     67    Male      Cleveland     asymptomatic     160.0  286.0  False   \n",
              "2     67    Male      Cleveland     asymptomatic     120.0  229.0  False   \n",
              "3     37    Male      Cleveland      non-anginal     130.0  250.0  False   \n",
              "4     41  Female      Cleveland  atypical angina     130.0  204.0  False   \n",
              "..   ...     ...            ...              ...       ...    ...    ...   \n",
              "915   54  Female  VA Long Beach     asymptomatic     127.0  333.0   True   \n",
              "916   62    Male  VA Long Beach   typical angina     130.0  139.0  False   \n",
              "917   55    Male  VA Long Beach     asymptomatic     122.0  223.0   True   \n",
              "918   58    Male  VA Long Beach     asymptomatic     130.0  385.0   True   \n",
              "919   62    Male  VA Long Beach  atypical angina     120.0  254.0  False   \n",
              "\n",
              "              restecg  thalch  exang  oldpeak        slope   ca  \\\n",
              "0      lv hypertrophy   150.0  False      2.3  downsloping  0.0   \n",
              "1      lv hypertrophy   108.0   True      1.5         flat  3.0   \n",
              "2      lv hypertrophy   129.0   True      2.6         flat  2.0   \n",
              "3              normal   187.0  False      3.5  downsloping  0.0   \n",
              "4      lv hypertrophy   172.0  False      1.4    upsloping  0.0   \n",
              "..                ...     ...    ...      ...          ...  ...   \n",
              "915  st-t abnormality   154.0  False      0.0         flat  0.0   \n",
              "916  st-t abnormality   140.0  False      0.5         flat  0.0   \n",
              "917  st-t abnormality   100.0  False      0.0         flat  0.0   \n",
              "918    lv hypertrophy   140.0  False      0.5         flat  0.0   \n",
              "919    lv hypertrophy    93.0   True      0.0         flat  0.0   \n",
              "\n",
              "                  thal  target  \n",
              "0         fixed defect       0  \n",
              "1               normal       1  \n",
              "2    reversable defect       1  \n",
              "3               normal       0  \n",
              "4               normal       0  \n",
              "..                 ...     ...  \n",
              "915             normal       1  \n",
              "916             normal       0  \n",
              "917       fixed defect       1  \n",
              "918             normal       0  \n",
              "919             normal       1  \n",
              "\n",
              "[920 rows x 15 columns]"
            ]
          },
          "execution_count": 14,
          "metadata": {},
          "output_type": "execute_result"
        }
      ],
      "source": [
        "df"
      ]
    },
    {
      "cell_type": "code",
      "execution_count": 15,
      "metadata": {
        "colab": {
          "base_uri": "https://localhost:8080/"
        },
        "id": "pxSkxuZ6cPvH",
        "outputId": "b5a071f4-6cd2-4d58-8750-2238a817339e"
      },
      "outputs": [],
      "source": [
        "df.replace({True: 1, False: 0}, inplace=True)"
      ]
    },
    {
      "cell_type": "code",
      "execution_count": 16,
      "metadata": {
        "id": "bmdWaG_BcQK9"
      },
      "outputs": [],
      "source": [
        "df = pd.get_dummies(df, drop_first=True)"
      ]
    },
    {
      "cell_type": "code",
      "execution_count": 17,
      "metadata": {
        "colab": {
          "base_uri": "https://localhost:8080/",
          "height": 290
        },
        "id": "wiKhrij2cQM4",
        "outputId": "a5ff9c8b-3745-4af7-c97b-2995e7f0bd21"
      },
      "outputs": [
        {
          "data": {
            "application/vnd.microsoft.datawrangler.viewer.v0+json": {
              "columns": [
                {
                  "name": "index",
                  "rawType": "int64",
                  "type": "integer"
                },
                {
                  "name": "age",
                  "rawType": "int64",
                  "type": "integer"
                },
                {
                  "name": "trestbps",
                  "rawType": "float64",
                  "type": "float"
                },
                {
                  "name": "chol",
                  "rawType": "float64",
                  "type": "float"
                },
                {
                  "name": "fbs",
                  "rawType": "int64",
                  "type": "integer"
                },
                {
                  "name": "thalch",
                  "rawType": "float64",
                  "type": "float"
                },
                {
                  "name": "exang",
                  "rawType": "int64",
                  "type": "integer"
                },
                {
                  "name": "oldpeak",
                  "rawType": "float64",
                  "type": "float"
                },
                {
                  "name": "ca",
                  "rawType": "float64",
                  "type": "float"
                },
                {
                  "name": "target",
                  "rawType": "int64",
                  "type": "integer"
                },
                {
                  "name": "sex_Male",
                  "rawType": "bool",
                  "type": "boolean"
                },
                {
                  "name": "dataset_Hungary",
                  "rawType": "bool",
                  "type": "boolean"
                },
                {
                  "name": "dataset_Switzerland",
                  "rawType": "bool",
                  "type": "boolean"
                },
                {
                  "name": "dataset_VA Long Beach",
                  "rawType": "bool",
                  "type": "boolean"
                },
                {
                  "name": "cp_atypical angina",
                  "rawType": "bool",
                  "type": "boolean"
                },
                {
                  "name": "cp_non-anginal",
                  "rawType": "bool",
                  "type": "boolean"
                },
                {
                  "name": "cp_typical angina",
                  "rawType": "bool",
                  "type": "boolean"
                },
                {
                  "name": "restecg_normal",
                  "rawType": "bool",
                  "type": "boolean"
                },
                {
                  "name": "restecg_st-t abnormality",
                  "rawType": "bool",
                  "type": "boolean"
                },
                {
                  "name": "slope_flat",
                  "rawType": "bool",
                  "type": "boolean"
                },
                {
                  "name": "slope_upsloping",
                  "rawType": "bool",
                  "type": "boolean"
                },
                {
                  "name": "thal_normal",
                  "rawType": "bool",
                  "type": "boolean"
                },
                {
                  "name": "thal_reversable defect",
                  "rawType": "bool",
                  "type": "boolean"
                }
              ],
              "ref": "731c63c7-80f7-4f07-912d-a348a28e02e1",
              "rows": [
                [
                  "0",
                  "63",
                  "145.0",
                  "233.0",
                  "1",
                  "150.0",
                  "0",
                  "2.3",
                  "0.0",
                  "0",
                  "True",
                  "False",
                  "False",
                  "False",
                  "False",
                  "False",
                  "True",
                  "False",
                  "False",
                  "False",
                  "False",
                  "False",
                  "False"
                ],
                [
                  "1",
                  "67",
                  "160.0",
                  "286.0",
                  "0",
                  "108.0",
                  "1",
                  "1.5",
                  "3.0",
                  "1",
                  "True",
                  "False",
                  "False",
                  "False",
                  "False",
                  "False",
                  "False",
                  "False",
                  "False",
                  "True",
                  "False",
                  "True",
                  "False"
                ],
                [
                  "2",
                  "67",
                  "120.0",
                  "229.0",
                  "0",
                  "129.0",
                  "1",
                  "2.6",
                  "2.0",
                  "1",
                  "True",
                  "False",
                  "False",
                  "False",
                  "False",
                  "False",
                  "False",
                  "False",
                  "False",
                  "True",
                  "False",
                  "False",
                  "True"
                ],
                [
                  "3",
                  "37",
                  "130.0",
                  "250.0",
                  "0",
                  "187.0",
                  "0",
                  "3.5",
                  "0.0",
                  "0",
                  "True",
                  "False",
                  "False",
                  "False",
                  "False",
                  "True",
                  "False",
                  "True",
                  "False",
                  "False",
                  "False",
                  "True",
                  "False"
                ],
                [
                  "4",
                  "41",
                  "130.0",
                  "204.0",
                  "0",
                  "172.0",
                  "0",
                  "1.4",
                  "0.0",
                  "0",
                  "False",
                  "False",
                  "False",
                  "False",
                  "True",
                  "False",
                  "False",
                  "False",
                  "False",
                  "False",
                  "True",
                  "True",
                  "False"
                ]
              ],
              "shape": {
                "columns": 22,
                "rows": 5
              }
            },
            "text/html": [
              "<div>\n",
              "<style scoped>\n",
              "    .dataframe tbody tr th:only-of-type {\n",
              "        vertical-align: middle;\n",
              "    }\n",
              "\n",
              "    .dataframe tbody tr th {\n",
              "        vertical-align: top;\n",
              "    }\n",
              "\n",
              "    .dataframe thead th {\n",
              "        text-align: right;\n",
              "    }\n",
              "</style>\n",
              "<table border=\"1\" class=\"dataframe\">\n",
              "  <thead>\n",
              "    <tr style=\"text-align: right;\">\n",
              "      <th></th>\n",
              "      <th>age</th>\n",
              "      <th>trestbps</th>\n",
              "      <th>chol</th>\n",
              "      <th>fbs</th>\n",
              "      <th>thalch</th>\n",
              "      <th>exang</th>\n",
              "      <th>oldpeak</th>\n",
              "      <th>ca</th>\n",
              "      <th>target</th>\n",
              "      <th>sex_Male</th>\n",
              "      <th>...</th>\n",
              "      <th>dataset_VA Long Beach</th>\n",
              "      <th>cp_atypical angina</th>\n",
              "      <th>cp_non-anginal</th>\n",
              "      <th>cp_typical angina</th>\n",
              "      <th>restecg_normal</th>\n",
              "      <th>restecg_st-t abnormality</th>\n",
              "      <th>slope_flat</th>\n",
              "      <th>slope_upsloping</th>\n",
              "      <th>thal_normal</th>\n",
              "      <th>thal_reversable defect</th>\n",
              "    </tr>\n",
              "  </thead>\n",
              "  <tbody>\n",
              "    <tr>\n",
              "      <th>0</th>\n",
              "      <td>63</td>\n",
              "      <td>145.0</td>\n",
              "      <td>233.0</td>\n",
              "      <td>1</td>\n",
              "      <td>150.0</td>\n",
              "      <td>0</td>\n",
              "      <td>2.3</td>\n",
              "      <td>0.0</td>\n",
              "      <td>0</td>\n",
              "      <td>True</td>\n",
              "      <td>...</td>\n",
              "      <td>False</td>\n",
              "      <td>False</td>\n",
              "      <td>False</td>\n",
              "      <td>True</td>\n",
              "      <td>False</td>\n",
              "      <td>False</td>\n",
              "      <td>False</td>\n",
              "      <td>False</td>\n",
              "      <td>False</td>\n",
              "      <td>False</td>\n",
              "    </tr>\n",
              "    <tr>\n",
              "      <th>1</th>\n",
              "      <td>67</td>\n",
              "      <td>160.0</td>\n",
              "      <td>286.0</td>\n",
              "      <td>0</td>\n",
              "      <td>108.0</td>\n",
              "      <td>1</td>\n",
              "      <td>1.5</td>\n",
              "      <td>3.0</td>\n",
              "      <td>1</td>\n",
              "      <td>True</td>\n",
              "      <td>...</td>\n",
              "      <td>False</td>\n",
              "      <td>False</td>\n",
              "      <td>False</td>\n",
              "      <td>False</td>\n",
              "      <td>False</td>\n",
              "      <td>False</td>\n",
              "      <td>True</td>\n",
              "      <td>False</td>\n",
              "      <td>True</td>\n",
              "      <td>False</td>\n",
              "    </tr>\n",
              "    <tr>\n",
              "      <th>2</th>\n",
              "      <td>67</td>\n",
              "      <td>120.0</td>\n",
              "      <td>229.0</td>\n",
              "      <td>0</td>\n",
              "      <td>129.0</td>\n",
              "      <td>1</td>\n",
              "      <td>2.6</td>\n",
              "      <td>2.0</td>\n",
              "      <td>1</td>\n",
              "      <td>True</td>\n",
              "      <td>...</td>\n",
              "      <td>False</td>\n",
              "      <td>False</td>\n",
              "      <td>False</td>\n",
              "      <td>False</td>\n",
              "      <td>False</td>\n",
              "      <td>False</td>\n",
              "      <td>True</td>\n",
              "      <td>False</td>\n",
              "      <td>False</td>\n",
              "      <td>True</td>\n",
              "    </tr>\n",
              "    <tr>\n",
              "      <th>3</th>\n",
              "      <td>37</td>\n",
              "      <td>130.0</td>\n",
              "      <td>250.0</td>\n",
              "      <td>0</td>\n",
              "      <td>187.0</td>\n",
              "      <td>0</td>\n",
              "      <td>3.5</td>\n",
              "      <td>0.0</td>\n",
              "      <td>0</td>\n",
              "      <td>True</td>\n",
              "      <td>...</td>\n",
              "      <td>False</td>\n",
              "      <td>False</td>\n",
              "      <td>True</td>\n",
              "      <td>False</td>\n",
              "      <td>True</td>\n",
              "      <td>False</td>\n",
              "      <td>False</td>\n",
              "      <td>False</td>\n",
              "      <td>True</td>\n",
              "      <td>False</td>\n",
              "    </tr>\n",
              "    <tr>\n",
              "      <th>4</th>\n",
              "      <td>41</td>\n",
              "      <td>130.0</td>\n",
              "      <td>204.0</td>\n",
              "      <td>0</td>\n",
              "      <td>172.0</td>\n",
              "      <td>0</td>\n",
              "      <td>1.4</td>\n",
              "      <td>0.0</td>\n",
              "      <td>0</td>\n",
              "      <td>False</td>\n",
              "      <td>...</td>\n",
              "      <td>False</td>\n",
              "      <td>True</td>\n",
              "      <td>False</td>\n",
              "      <td>False</td>\n",
              "      <td>False</td>\n",
              "      <td>False</td>\n",
              "      <td>False</td>\n",
              "      <td>True</td>\n",
              "      <td>True</td>\n",
              "      <td>False</td>\n",
              "    </tr>\n",
              "  </tbody>\n",
              "</table>\n",
              "<p>5 rows × 22 columns</p>\n",
              "</div>"
            ],
            "text/plain": [
              "   age  trestbps   chol  fbs  thalch  exang  oldpeak   ca  target  sex_Male  \\\n",
              "0   63     145.0  233.0    1   150.0      0      2.3  0.0       0      True   \n",
              "1   67     160.0  286.0    0   108.0      1      1.5  3.0       1      True   \n",
              "2   67     120.0  229.0    0   129.0      1      2.6  2.0       1      True   \n",
              "3   37     130.0  250.0    0   187.0      0      3.5  0.0       0      True   \n",
              "4   41     130.0  204.0    0   172.0      0      1.4  0.0       0     False   \n",
              "\n",
              "   ...  dataset_VA Long Beach  cp_atypical angina  cp_non-anginal  \\\n",
              "0  ...                  False               False           False   \n",
              "1  ...                  False               False           False   \n",
              "2  ...                  False               False           False   \n",
              "3  ...                  False               False            True   \n",
              "4  ...                  False                True           False   \n",
              "\n",
              "   cp_typical angina  restecg_normal  restecg_st-t abnormality  slope_flat  \\\n",
              "0               True           False                     False       False   \n",
              "1              False           False                     False        True   \n",
              "2              False           False                     False        True   \n",
              "3              False            True                     False       False   \n",
              "4              False           False                     False       False   \n",
              "\n",
              "   slope_upsloping  thal_normal  thal_reversable defect  \n",
              "0            False        False                   False  \n",
              "1            False         True                   False  \n",
              "2            False        False                    True  \n",
              "3            False         True                   False  \n",
              "4             True         True                   False  \n",
              "\n",
              "[5 rows x 22 columns]"
            ]
          },
          "execution_count": 17,
          "metadata": {},
          "output_type": "execute_result"
        }
      ],
      "source": [
        "df.head()"
      ]
    },
    {
      "cell_type": "code",
      "execution_count": 18,
      "metadata": {
        "colab": {
          "base_uri": "https://localhost:8080/"
        },
        "id": "UjiO9nbJcQO1",
        "outputId": "831f0c12-6e17-4103-d116-c536091245c7"
      },
      "outputs": [
        {
          "data": {
            "text/plain": [
              "(920, 22)"
            ]
          },
          "execution_count": 18,
          "metadata": {},
          "output_type": "execute_result"
        }
      ],
      "source": [
        "df.shape"
      ]
    },
    {
      "cell_type": "code",
      "execution_count": 19,
      "metadata": {
        "colab": {
          "base_uri": "https://localhost:8080/",
          "height": 774
        },
        "id": "EMI7KUOucQQx",
        "outputId": "c3d9d103-425e-47e5-fd4c-a9d81cd98082"
      },
      "outputs": [
        {
          "data": {
            "application/vnd.microsoft.datawrangler.viewer.v0+json": {
              "columns": [
                {
                  "name": "index",
                  "rawType": "object",
                  "type": "string"
                },
                {
                  "name": "0",
                  "rawType": "int64",
                  "type": "integer"
                }
              ],
              "ref": "91ba3bb8-d370-4f25-9eac-575268368bb4",
              "rows": [
                [
                  "age",
                  "0"
                ],
                [
                  "trestbps",
                  "0"
                ],
                [
                  "chol",
                  "0"
                ],
                [
                  "fbs",
                  "0"
                ],
                [
                  "thalch",
                  "0"
                ],
                [
                  "exang",
                  "0"
                ],
                [
                  "oldpeak",
                  "0"
                ],
                [
                  "ca",
                  "0"
                ],
                [
                  "target",
                  "0"
                ],
                [
                  "sex_Male",
                  "0"
                ],
                [
                  "dataset_Hungary",
                  "0"
                ],
                [
                  "dataset_Switzerland",
                  "0"
                ],
                [
                  "dataset_VA Long Beach",
                  "0"
                ],
                [
                  "cp_atypical angina",
                  "0"
                ],
                [
                  "cp_non-anginal",
                  "0"
                ],
                [
                  "cp_typical angina",
                  "0"
                ],
                [
                  "restecg_normal",
                  "0"
                ],
                [
                  "restecg_st-t abnormality",
                  "0"
                ],
                [
                  "slope_flat",
                  "0"
                ],
                [
                  "slope_upsloping",
                  "0"
                ],
                [
                  "thal_normal",
                  "0"
                ],
                [
                  "thal_reversable defect",
                  "0"
                ]
              ],
              "shape": {
                "columns": 1,
                "rows": 22
              }
            },
            "text/plain": [
              "age                         0\n",
              "trestbps                    0\n",
              "chol                        0\n",
              "fbs                         0\n",
              "thalch                      0\n",
              "exang                       0\n",
              "oldpeak                     0\n",
              "ca                          0\n",
              "target                      0\n",
              "sex_Male                    0\n",
              "dataset_Hungary             0\n",
              "dataset_Switzerland         0\n",
              "dataset_VA Long Beach       0\n",
              "cp_atypical angina          0\n",
              "cp_non-anginal              0\n",
              "cp_typical angina           0\n",
              "restecg_normal              0\n",
              "restecg_st-t abnormality    0\n",
              "slope_flat                  0\n",
              "slope_upsloping             0\n",
              "thal_normal                 0\n",
              "thal_reversable defect      0\n",
              "dtype: int64"
            ]
          },
          "execution_count": 19,
          "metadata": {},
          "output_type": "execute_result"
        }
      ],
      "source": [
        "df.isnull().sum()"
      ]
    },
    {
      "cell_type": "code",
      "execution_count": 20,
      "metadata": {
        "colab": {
          "base_uri": "https://localhost:8080/",
          "height": 774
        },
        "id": "u2J64PZ2cQSx",
        "outputId": "99e01e36-4797-4f46-c984-64796982fa04"
      },
      "outputs": [
        {
          "data": {
            "application/vnd.microsoft.datawrangler.viewer.v0+json": {
              "columns": [
                {
                  "name": "index",
                  "rawType": "object",
                  "type": "string"
                },
                {
                  "name": "0",
                  "rawType": "object",
                  "type": "unknown"
                }
              ],
              "ref": "0cc29507-0700-4ad5-af84-811f1950b80c",
              "rows": [
                [
                  "age",
                  "int64"
                ],
                [
                  "trestbps",
                  "float64"
                ],
                [
                  "chol",
                  "float64"
                ],
                [
                  "fbs",
                  "int64"
                ],
                [
                  "thalch",
                  "float64"
                ],
                [
                  "exang",
                  "int64"
                ],
                [
                  "oldpeak",
                  "float64"
                ],
                [
                  "ca",
                  "float64"
                ],
                [
                  "target",
                  "int64"
                ],
                [
                  "sex_Male",
                  "bool"
                ],
                [
                  "dataset_Hungary",
                  "bool"
                ],
                [
                  "dataset_Switzerland",
                  "bool"
                ],
                [
                  "dataset_VA Long Beach",
                  "bool"
                ],
                [
                  "cp_atypical angina",
                  "bool"
                ],
                [
                  "cp_non-anginal",
                  "bool"
                ],
                [
                  "cp_typical angina",
                  "bool"
                ],
                [
                  "restecg_normal",
                  "bool"
                ],
                [
                  "restecg_st-t abnormality",
                  "bool"
                ],
                [
                  "slope_flat",
                  "bool"
                ],
                [
                  "slope_upsloping",
                  "bool"
                ],
                [
                  "thal_normal",
                  "bool"
                ],
                [
                  "thal_reversable defect",
                  "bool"
                ]
              ],
              "shape": {
                "columns": 1,
                "rows": 22
              }
            },
            "text/plain": [
              "age                           int64\n",
              "trestbps                    float64\n",
              "chol                        float64\n",
              "fbs                           int64\n",
              "thalch                      float64\n",
              "exang                         int64\n",
              "oldpeak                     float64\n",
              "ca                          float64\n",
              "target                        int64\n",
              "sex_Male                       bool\n",
              "dataset_Hungary                bool\n",
              "dataset_Switzerland            bool\n",
              "dataset_VA Long Beach          bool\n",
              "cp_atypical angina             bool\n",
              "cp_non-anginal                 bool\n",
              "cp_typical angina              bool\n",
              "restecg_normal                 bool\n",
              "restecg_st-t abnormality       bool\n",
              "slope_flat                     bool\n",
              "slope_upsloping                bool\n",
              "thal_normal                    bool\n",
              "thal_reversable defect         bool\n",
              "dtype: object"
            ]
          },
          "execution_count": 20,
          "metadata": {},
          "output_type": "execute_result"
        }
      ],
      "source": [
        "df.dtypes"
      ]
    },
    {
      "cell_type": "code",
      "execution_count": 21,
      "metadata": {
        "colab": {
          "base_uri": "https://localhost:8080/"
        },
        "id": "HJofVNBPcQUu",
        "outputId": "49be7c32-c0cb-4e60-e63f-666e1828c54b"
      },
      "outputs": [],
      "source": [
        "df.replace({True: 1, False: 0}, inplace=True)"
      ]
    },
    {
      "cell_type": "code",
      "execution_count": 22,
      "metadata": {
        "colab": {
          "base_uri": "https://localhost:8080/",
          "height": 774
        },
        "id": "506f7sLkcQWs",
        "outputId": "b41ca9d7-eab8-4a14-dc4b-a3bad73a0c67"
      },
      "outputs": [
        {
          "data": {
            "application/vnd.microsoft.datawrangler.viewer.v0+json": {
              "columns": [
                {
                  "name": "index",
                  "rawType": "object",
                  "type": "string"
                },
                {
                  "name": "0",
                  "rawType": "object",
                  "type": "unknown"
                }
              ],
              "ref": "741970e4-809b-4389-a99b-57bde86d27c9",
              "rows": [
                [
                  "age",
                  "int64"
                ],
                [
                  "trestbps",
                  "float64"
                ],
                [
                  "chol",
                  "float64"
                ],
                [
                  "fbs",
                  "int64"
                ],
                [
                  "thalch",
                  "float64"
                ],
                [
                  "exang",
                  "int64"
                ],
                [
                  "oldpeak",
                  "float64"
                ],
                [
                  "ca",
                  "float64"
                ],
                [
                  "target",
                  "int64"
                ],
                [
                  "sex_Male",
                  "int64"
                ],
                [
                  "dataset_Hungary",
                  "int64"
                ],
                [
                  "dataset_Switzerland",
                  "int64"
                ],
                [
                  "dataset_VA Long Beach",
                  "int64"
                ],
                [
                  "cp_atypical angina",
                  "int64"
                ],
                [
                  "cp_non-anginal",
                  "int64"
                ],
                [
                  "cp_typical angina",
                  "int64"
                ],
                [
                  "restecg_normal",
                  "int64"
                ],
                [
                  "restecg_st-t abnormality",
                  "int64"
                ],
                [
                  "slope_flat",
                  "int64"
                ],
                [
                  "slope_upsloping",
                  "int64"
                ],
                [
                  "thal_normal",
                  "int64"
                ],
                [
                  "thal_reversable defect",
                  "int64"
                ]
              ],
              "shape": {
                "columns": 1,
                "rows": 22
              }
            },
            "text/plain": [
              "age                           int64\n",
              "trestbps                    float64\n",
              "chol                        float64\n",
              "fbs                           int64\n",
              "thalch                      float64\n",
              "exang                         int64\n",
              "oldpeak                     float64\n",
              "ca                          float64\n",
              "target                        int64\n",
              "sex_Male                      int64\n",
              "dataset_Hungary               int64\n",
              "dataset_Switzerland           int64\n",
              "dataset_VA Long Beach         int64\n",
              "cp_atypical angina            int64\n",
              "cp_non-anginal                int64\n",
              "cp_typical angina             int64\n",
              "restecg_normal                int64\n",
              "restecg_st-t abnormality      int64\n",
              "slope_flat                    int64\n",
              "slope_upsloping               int64\n",
              "thal_normal                   int64\n",
              "thal_reversable defect        int64\n",
              "dtype: object"
            ]
          },
          "execution_count": 22,
          "metadata": {},
          "output_type": "execute_result"
        }
      ],
      "source": [
        "df.dtypes"
      ]
    },
    {
      "cell_type": "code",
      "execution_count": 23,
      "metadata": {
        "colab": {
          "base_uri": "https://localhost:8080/",
          "height": 290
        },
        "id": "OawvNAh_dYj5",
        "outputId": "d83aaa6d-7f61-4bd4-c8fc-f579696a8a67"
      },
      "outputs": [
        {
          "data": {
            "application/vnd.microsoft.datawrangler.viewer.v0+json": {
              "columns": [
                {
                  "name": "index",
                  "rawType": "int64",
                  "type": "integer"
                },
                {
                  "name": "age",
                  "rawType": "int64",
                  "type": "integer"
                },
                {
                  "name": "trestbps",
                  "rawType": "float64",
                  "type": "float"
                },
                {
                  "name": "chol",
                  "rawType": "float64",
                  "type": "float"
                },
                {
                  "name": "fbs",
                  "rawType": "int64",
                  "type": "integer"
                },
                {
                  "name": "thalch",
                  "rawType": "float64",
                  "type": "float"
                },
                {
                  "name": "exang",
                  "rawType": "int64",
                  "type": "integer"
                },
                {
                  "name": "oldpeak",
                  "rawType": "float64",
                  "type": "float"
                },
                {
                  "name": "ca",
                  "rawType": "float64",
                  "type": "float"
                },
                {
                  "name": "target",
                  "rawType": "int64",
                  "type": "integer"
                },
                {
                  "name": "sex_Male",
                  "rawType": "int64",
                  "type": "integer"
                },
                {
                  "name": "dataset_Hungary",
                  "rawType": "int64",
                  "type": "integer"
                },
                {
                  "name": "dataset_Switzerland",
                  "rawType": "int64",
                  "type": "integer"
                },
                {
                  "name": "dataset_VA Long Beach",
                  "rawType": "int64",
                  "type": "integer"
                },
                {
                  "name": "cp_atypical angina",
                  "rawType": "int64",
                  "type": "integer"
                },
                {
                  "name": "cp_non-anginal",
                  "rawType": "int64",
                  "type": "integer"
                },
                {
                  "name": "cp_typical angina",
                  "rawType": "int64",
                  "type": "integer"
                },
                {
                  "name": "restecg_normal",
                  "rawType": "int64",
                  "type": "integer"
                },
                {
                  "name": "restecg_st-t abnormality",
                  "rawType": "int64",
                  "type": "integer"
                },
                {
                  "name": "slope_flat",
                  "rawType": "int64",
                  "type": "integer"
                },
                {
                  "name": "slope_upsloping",
                  "rawType": "int64",
                  "type": "integer"
                },
                {
                  "name": "thal_normal",
                  "rawType": "int64",
                  "type": "integer"
                },
                {
                  "name": "thal_reversable defect",
                  "rawType": "int64",
                  "type": "integer"
                }
              ],
              "ref": "db95c791-dd9e-45f8-acaa-29ec6085e001",
              "rows": [
                [
                  "0",
                  "63",
                  "145.0",
                  "233.0",
                  "1",
                  "150.0",
                  "0",
                  "2.3",
                  "0.0",
                  "0",
                  "1",
                  "0",
                  "0",
                  "0",
                  "0",
                  "0",
                  "1",
                  "0",
                  "0",
                  "0",
                  "0",
                  "0",
                  "0"
                ],
                [
                  "1",
                  "67",
                  "160.0",
                  "286.0",
                  "0",
                  "108.0",
                  "1",
                  "1.5",
                  "3.0",
                  "1",
                  "1",
                  "0",
                  "0",
                  "0",
                  "0",
                  "0",
                  "0",
                  "0",
                  "0",
                  "1",
                  "0",
                  "1",
                  "0"
                ],
                [
                  "2",
                  "67",
                  "120.0",
                  "229.0",
                  "0",
                  "129.0",
                  "1",
                  "2.6",
                  "2.0",
                  "1",
                  "1",
                  "0",
                  "0",
                  "0",
                  "0",
                  "0",
                  "0",
                  "0",
                  "0",
                  "1",
                  "0",
                  "0",
                  "1"
                ],
                [
                  "3",
                  "37",
                  "130.0",
                  "250.0",
                  "0",
                  "187.0",
                  "0",
                  "3.5",
                  "0.0",
                  "0",
                  "1",
                  "0",
                  "0",
                  "0",
                  "0",
                  "1",
                  "0",
                  "1",
                  "0",
                  "0",
                  "0",
                  "1",
                  "0"
                ],
                [
                  "4",
                  "41",
                  "130.0",
                  "204.0",
                  "0",
                  "172.0",
                  "0",
                  "1.4",
                  "0.0",
                  "0",
                  "0",
                  "0",
                  "0",
                  "0",
                  "1",
                  "0",
                  "0",
                  "0",
                  "0",
                  "0",
                  "1",
                  "1",
                  "0"
                ]
              ],
              "shape": {
                "columns": 22,
                "rows": 5
              }
            },
            "text/html": [
              "<div>\n",
              "<style scoped>\n",
              "    .dataframe tbody tr th:only-of-type {\n",
              "        vertical-align: middle;\n",
              "    }\n",
              "\n",
              "    .dataframe tbody tr th {\n",
              "        vertical-align: top;\n",
              "    }\n",
              "\n",
              "    .dataframe thead th {\n",
              "        text-align: right;\n",
              "    }\n",
              "</style>\n",
              "<table border=\"1\" class=\"dataframe\">\n",
              "  <thead>\n",
              "    <tr style=\"text-align: right;\">\n",
              "      <th></th>\n",
              "      <th>age</th>\n",
              "      <th>trestbps</th>\n",
              "      <th>chol</th>\n",
              "      <th>fbs</th>\n",
              "      <th>thalch</th>\n",
              "      <th>exang</th>\n",
              "      <th>oldpeak</th>\n",
              "      <th>ca</th>\n",
              "      <th>target</th>\n",
              "      <th>sex_Male</th>\n",
              "      <th>...</th>\n",
              "      <th>dataset_VA Long Beach</th>\n",
              "      <th>cp_atypical angina</th>\n",
              "      <th>cp_non-anginal</th>\n",
              "      <th>cp_typical angina</th>\n",
              "      <th>restecg_normal</th>\n",
              "      <th>restecg_st-t abnormality</th>\n",
              "      <th>slope_flat</th>\n",
              "      <th>slope_upsloping</th>\n",
              "      <th>thal_normal</th>\n",
              "      <th>thal_reversable defect</th>\n",
              "    </tr>\n",
              "  </thead>\n",
              "  <tbody>\n",
              "    <tr>\n",
              "      <th>0</th>\n",
              "      <td>63</td>\n",
              "      <td>145.0</td>\n",
              "      <td>233.0</td>\n",
              "      <td>1</td>\n",
              "      <td>150.0</td>\n",
              "      <td>0</td>\n",
              "      <td>2.3</td>\n",
              "      <td>0.0</td>\n",
              "      <td>0</td>\n",
              "      <td>1</td>\n",
              "      <td>...</td>\n",
              "      <td>0</td>\n",
              "      <td>0</td>\n",
              "      <td>0</td>\n",
              "      <td>1</td>\n",
              "      <td>0</td>\n",
              "      <td>0</td>\n",
              "      <td>0</td>\n",
              "      <td>0</td>\n",
              "      <td>0</td>\n",
              "      <td>0</td>\n",
              "    </tr>\n",
              "    <tr>\n",
              "      <th>1</th>\n",
              "      <td>67</td>\n",
              "      <td>160.0</td>\n",
              "      <td>286.0</td>\n",
              "      <td>0</td>\n",
              "      <td>108.0</td>\n",
              "      <td>1</td>\n",
              "      <td>1.5</td>\n",
              "      <td>3.0</td>\n",
              "      <td>1</td>\n",
              "      <td>1</td>\n",
              "      <td>...</td>\n",
              "      <td>0</td>\n",
              "      <td>0</td>\n",
              "      <td>0</td>\n",
              "      <td>0</td>\n",
              "      <td>0</td>\n",
              "      <td>0</td>\n",
              "      <td>1</td>\n",
              "      <td>0</td>\n",
              "      <td>1</td>\n",
              "      <td>0</td>\n",
              "    </tr>\n",
              "    <tr>\n",
              "      <th>2</th>\n",
              "      <td>67</td>\n",
              "      <td>120.0</td>\n",
              "      <td>229.0</td>\n",
              "      <td>0</td>\n",
              "      <td>129.0</td>\n",
              "      <td>1</td>\n",
              "      <td>2.6</td>\n",
              "      <td>2.0</td>\n",
              "      <td>1</td>\n",
              "      <td>1</td>\n",
              "      <td>...</td>\n",
              "      <td>0</td>\n",
              "      <td>0</td>\n",
              "      <td>0</td>\n",
              "      <td>0</td>\n",
              "      <td>0</td>\n",
              "      <td>0</td>\n",
              "      <td>1</td>\n",
              "      <td>0</td>\n",
              "      <td>0</td>\n",
              "      <td>1</td>\n",
              "    </tr>\n",
              "    <tr>\n",
              "      <th>3</th>\n",
              "      <td>37</td>\n",
              "      <td>130.0</td>\n",
              "      <td>250.0</td>\n",
              "      <td>0</td>\n",
              "      <td>187.0</td>\n",
              "      <td>0</td>\n",
              "      <td>3.5</td>\n",
              "      <td>0.0</td>\n",
              "      <td>0</td>\n",
              "      <td>1</td>\n",
              "      <td>...</td>\n",
              "      <td>0</td>\n",
              "      <td>0</td>\n",
              "      <td>1</td>\n",
              "      <td>0</td>\n",
              "      <td>1</td>\n",
              "      <td>0</td>\n",
              "      <td>0</td>\n",
              "      <td>0</td>\n",
              "      <td>1</td>\n",
              "      <td>0</td>\n",
              "    </tr>\n",
              "    <tr>\n",
              "      <th>4</th>\n",
              "      <td>41</td>\n",
              "      <td>130.0</td>\n",
              "      <td>204.0</td>\n",
              "      <td>0</td>\n",
              "      <td>172.0</td>\n",
              "      <td>0</td>\n",
              "      <td>1.4</td>\n",
              "      <td>0.0</td>\n",
              "      <td>0</td>\n",
              "      <td>0</td>\n",
              "      <td>...</td>\n",
              "      <td>0</td>\n",
              "      <td>1</td>\n",
              "      <td>0</td>\n",
              "      <td>0</td>\n",
              "      <td>0</td>\n",
              "      <td>0</td>\n",
              "      <td>0</td>\n",
              "      <td>1</td>\n",
              "      <td>1</td>\n",
              "      <td>0</td>\n",
              "    </tr>\n",
              "  </tbody>\n",
              "</table>\n",
              "<p>5 rows × 22 columns</p>\n",
              "</div>"
            ],
            "text/plain": [
              "   age  trestbps   chol  fbs  thalch  exang  oldpeak   ca  target  sex_Male  \\\n",
              "0   63     145.0  233.0    1   150.0      0      2.3  0.0       0         1   \n",
              "1   67     160.0  286.0    0   108.0      1      1.5  3.0       1         1   \n",
              "2   67     120.0  229.0    0   129.0      1      2.6  2.0       1         1   \n",
              "3   37     130.0  250.0    0   187.0      0      3.5  0.0       0         1   \n",
              "4   41     130.0  204.0    0   172.0      0      1.4  0.0       0         0   \n",
              "\n",
              "   ...  dataset_VA Long Beach  cp_atypical angina  cp_non-anginal  \\\n",
              "0  ...                      0                   0               0   \n",
              "1  ...                      0                   0               0   \n",
              "2  ...                      0                   0               0   \n",
              "3  ...                      0                   0               1   \n",
              "4  ...                      0                   1               0   \n",
              "\n",
              "   cp_typical angina  restecg_normal  restecg_st-t abnormality  slope_flat  \\\n",
              "0                  1               0                         0           0   \n",
              "1                  0               0                         0           1   \n",
              "2                  0               0                         0           1   \n",
              "3                  0               1                         0           0   \n",
              "4                  0               0                         0           0   \n",
              "\n",
              "   slope_upsloping  thal_normal  thal_reversable defect  \n",
              "0                0            0                       0  \n",
              "1                0            1                       0  \n",
              "2                0            0                       1  \n",
              "3                0            1                       0  \n",
              "4                1            1                       0  \n",
              "\n",
              "[5 rows x 22 columns]"
            ]
          },
          "execution_count": 23,
          "metadata": {},
          "output_type": "execute_result"
        }
      ],
      "source": [
        "df.head()"
      ]
    },
    {
      "cell_type": "code",
      "execution_count": 24,
      "metadata": {
        "colab": {
          "base_uri": "https://localhost:8080/",
          "height": 774
        },
        "id": "IqwBy-AWdb1t",
        "outputId": "9a7364df-06cf-44bf-b832-ad2e75e352cb"
      },
      "outputs": [
        {
          "data": {
            "application/vnd.microsoft.datawrangler.viewer.v0+json": {
              "columns": [
                {
                  "name": "index",
                  "rawType": "object",
                  "type": "string"
                },
                {
                  "name": "target",
                  "rawType": "float64",
                  "type": "float"
                }
              ],
              "ref": "6a6375f9-b9d7-4f21-9420-283dda60414a",
              "rows": [
                [
                  "target",
                  "1.0"
                ],
                [
                  "exang",
                  "0.4336051474844807"
                ],
                [
                  "oldpeak",
                  "0.3661383918111434"
                ],
                [
                  "sex_Male",
                  "0.3072844284149237"
                ],
                [
                  "dataset_Switzerland",
                  "0.30161424620416327"
                ],
                [
                  "age",
                  "0.28269958016942315"
                ],
                [
                  "thal_reversable defect",
                  "0.25702924229760993"
                ],
                [
                  "dataset_VA Long Beach",
                  "0.20326730460269596"
                ],
                [
                  "ca",
                  "0.16475515048060005"
                ],
                [
                  "fbs",
                  "0.10807116053914173"
                ],
                [
                  "restecg_st-t abnormality",
                  "0.10475026276427171"
                ],
                [
                  "trestbps",
                  "0.1012734453404853"
                ],
                [
                  "slope_flat",
                  "0.09725860983160232"
                ],
                [
                  "cp_typical angina",
                  "-0.05467262111745416"
                ],
                [
                  "restecg_normal",
                  "-0.09355436330628894"
                ],
                [
                  "slope_upsloping",
                  "-0.18090305928893907"
                ],
                [
                  "cp_non-anginal",
                  "-0.20981211761410123"
                ],
                [
                  "chol",
                  "-0.22897584456798556"
                ],
                [
                  "dataset_Hungary",
                  "-0.263296676307756"
                ],
                [
                  "thal_normal",
                  "-0.286195755080522"
                ],
                [
                  "thalch",
                  "-0.3818638086876117"
                ],
                [
                  "cp_atypical angina",
                  "-0.4034654635744174"
                ]
              ],
              "shape": {
                "columns": 1,
                "rows": 22
              }
            },
            "text/plain": [
              "target                      1.000000\n",
              "exang                       0.433605\n",
              "oldpeak                     0.366138\n",
              "sex_Male                    0.307284\n",
              "dataset_Switzerland         0.301614\n",
              "age                         0.282700\n",
              "thal_reversable defect      0.257029\n",
              "dataset_VA Long Beach       0.203267\n",
              "ca                          0.164755\n",
              "fbs                         0.108071\n",
              "restecg_st-t abnormality    0.104750\n",
              "trestbps                    0.101273\n",
              "slope_flat                  0.097259\n",
              "cp_typical angina          -0.054673\n",
              "restecg_normal             -0.093554\n",
              "slope_upsloping            -0.180903\n",
              "cp_non-anginal             -0.209812\n",
              "chol                       -0.228976\n",
              "dataset_Hungary            -0.263297\n",
              "thal_normal                -0.286196\n",
              "thalch                     -0.381864\n",
              "cp_atypical angina         -0.403465\n",
              "Name: target, dtype: float64"
            ]
          },
          "execution_count": 24,
          "metadata": {},
          "output_type": "execute_result"
        }
      ],
      "source": [
        "corr=df.corr().sort_values('target',ascending=False)\n",
        "corr['target']"
      ]
    },
    {
      "cell_type": "code",
      "execution_count": 25,
      "metadata": {
        "colab": {
          "base_uri": "https://localhost:8080/",
          "height": 1000
        },
        "id": "JQ5s6LASd6HJ",
        "outputId": "89ddfe19-2ce8-4148-ecb4-bf484526b9c4"
      },
      "outputs": [
        {
          "data": {
            "image/png": "[encoded data removed]",
            "text/plain": [
              "<Figure size 1200x1000 with 2 Axes>"
            ]
          },
          "metadata": {},
          "output_type": "display_data"
        }
      ],
      "source": [
        "plt.figure(figsize=(12, 10))\n",
        "sns.heatmap(df.corr(), annot=True, cmap='coolwarm', fmt=\".1f\")\n",
        "plt.title('Correlation Matrix')\n",
        "plt.show()"
      ]
    },
    {
      "cell_type": "code",
      "execution_count": 26,
      "metadata": {
        "id": "UuKfP8h4gHbn"
      },
      "outputs": [],
      "source": [
        "df.drop(columns=['dataset_Switzerland','dataset_Hungary','dataset_VA Long Beach'],inplace=True)"
      ]
    },
    {
      "cell_type": "code",
      "execution_count": 27,
      "metadata": {
        "colab": {
          "base_uri": "https://localhost:8080/",
          "height": 680
        },
        "id": "d5VLxsjQgikj",
        "outputId": "de64cfcb-c381-4eb1-e45e-a54bb3ca3a4f"
      },
      "outputs": [
        {
          "data": {
            "application/vnd.microsoft.datawrangler.viewer.v0+json": {
              "columns": [
                {
                  "name": "index",
                  "rawType": "object",
                  "type": "string"
                },
                {
                  "name": "target",
                  "rawType": "float64",
                  "type": "float"
                }
              ],
              "ref": "634fc91d-fb59-405e-80a0-8c9cd5b0267c",
              "rows": [
                [
                  "target",
                  "1.0"
                ],
                [
                  "exang",
                  "0.4336051474844807"
                ],
                [
                  "oldpeak",
                  "0.3661383918111434"
                ],
                [
                  "sex_Male",
                  "0.3072844284149237"
                ],
                [
                  "age",
                  "0.28269958016942315"
                ],
                [
                  "thal_reversable defect",
                  "0.25702924229760993"
                ],
                [
                  "ca",
                  "0.16475515048060005"
                ],
                [
                  "fbs",
                  "0.10807116053914173"
                ],
                [
                  "restecg_st-t abnormality",
                  "0.10475026276427171"
                ],
                [
                  "trestbps",
                  "0.1012734453404853"
                ],
                [
                  "slope_flat",
                  "0.09725860983160232"
                ],
                [
                  "cp_typical angina",
                  "-0.05467262111745416"
                ],
                [
                  "restecg_normal",
                  "-0.09355436330628894"
                ],
                [
                  "slope_upsloping",
                  "-0.18090305928893907"
                ],
                [
                  "cp_non-anginal",
                  "-0.20981211761410123"
                ],
                [
                  "chol",
                  "-0.22897584456798556"
                ],
                [
                  "thal_normal",
                  "-0.286195755080522"
                ],
                [
                  "thalch",
                  "-0.3818638086876117"
                ],
                [
                  "cp_atypical angina",
                  "-0.4034654635744174"
                ]
              ],
              "shape": {
                "columns": 1,
                "rows": 19
              }
            },
            "text/plain": [
              "target                      1.000000\n",
              "exang                       0.433605\n",
              "oldpeak                     0.366138\n",
              "sex_Male                    0.307284\n",
              "age                         0.282700\n",
              "thal_reversable defect      0.257029\n",
              "ca                          0.164755\n",
              "fbs                         0.108071\n",
              "restecg_st-t abnormality    0.104750\n",
              "trestbps                    0.101273\n",
              "slope_flat                  0.097259\n",
              "cp_typical angina          -0.054673\n",
              "restecg_normal             -0.093554\n",
              "slope_upsloping            -0.180903\n",
              "cp_non-anginal             -0.209812\n",
              "chol                       -0.228976\n",
              "thal_normal                -0.286196\n",
              "thalch                     -0.381864\n",
              "cp_atypical angina         -0.403465\n",
              "Name: target, dtype: float64"
            ]
          },
          "execution_count": 27,
          "metadata": {},
          "output_type": "execute_result"
        }
      ],
      "source": [
        "corr=df.corr().sort_values('target',ascending=False)\n",
        "corr['target']"
      ]
    },
    {
      "cell_type": "markdown",
      "metadata": {
        "id": "kAnWPbkomuTm"
      },
      "source": [
        "split data"
      ]
    },
    {
      "cell_type": "code",
      "execution_count": 28,
      "metadata": {
        "id": "raAThbacg7j9"
      },
      "outputs": [],
      "source": [
        "X=df.drop(columns='target')\n",
        "y=df['target']"
      ]
    },
    {
      "cell_type": "code",
      "execution_count": 29,
      "metadata": {
        "id": "KGgqhSikhARU"
      },
      "outputs": [],
      "source": [
        "from sklearn.model_selection import train_test_split\n",
        "X_train, X_test, y_train, y_test = train_test_split(X,y,test_size=0.2,random_state=42,shuffle=True)"
      ]
    },
    {
      "cell_type": "markdown",
      "metadata": {
        "id": "suEm1NaomyGD"
      },
      "source": [
        "model training and evaluating"
      ]
    },
    {
      "cell_type": "code",
      "execution_count": 30,
      "metadata": {
        "id": "Iz_EIktXhGr6"
      },
      "outputs": [],
      "source": [
        "from sklearn.ensemble import RandomForestClassifier\n",
        "from sklearn.tree import DecisionTreeClassifier\n",
        "from xgboost import XGBClassifier\n",
        "from sklearn.linear_model import LogisticRegression\n",
        "from sklearn.metrics import accuracy_score, classification_report, confusion_matrix"
      ]
    },
    {
      "cell_type": "code",
      "execution_count": 31,
      "metadata": {
        "colab": {
          "base_uri": "https://localhost:8080/"
        },
        "id": "c7abM52piXGM",
        "outputId": "233877cf-2d67-4be6-bca8-b7d308595cce"
      },
      "outputs": [
        {
          "name": "stdout",
          "output_type": "stream",
          "text": [
            "0.8641304347826086\n",
            "              precision    recall  f1-score   support\n",
            "\n",
            "           0       0.83      0.84      0.83        75\n",
            "           1       0.89      0.88      0.88       109\n",
            "\n",
            "    accuracy                           0.86       184\n",
            "   macro avg       0.86      0.86      0.86       184\n",
            "weighted avg       0.86      0.86      0.86       184\n",
            "\n",
            "[[63 12]\n",
            " [13 96]]\n"
          ]
        }
      ],
      "source": [
        "rf=RandomForestClassifier()\n",
        "rf.fit(X_train,y_train)\n",
        "y_predrf=rf.predict(X_test)\n",
        "\n",
        "print(accuracy_score(y_test,y_predrf))\n",
        "print(classification_report(y_test,y_predrf))\n",
        "print(confusion_matrix(y_test,y_predrf))"
      ]
    },
    {
      "cell_type": "code",
      "execution_count": 32,
      "metadata": {
        "colab": {
          "base_uri": "https://localhost:8080/",
          "height": 564
        },
        "id": "o4FlfTMvmMb5",
        "outputId": "63738062-40f6-4753-c5b3-a53fb9709b40"
      },
      "outputs": [
        {
          "data": {
            "image/png": "[encoded data removed]",
            "text/plain": [
              "<Figure size 800x600 with 2 Axes>"
            ]
          },
          "metadata": {},
          "output_type": "display_data"
        }
      ],
      "source": [
        "cm = confusion_matrix(y_test, y_predrf)\n",
        "plt.figure(figsize=(8, 6))\n",
        "sns.heatmap(cm, annot=True, fmt='d', cmap='Blues')\n",
        "plt.title('Confusion Matrix for RandomForest')\n",
        "plt.xlabel('Predicted')\n",
        "plt.ylabel('Actual')\n",
        "plt.show()"
      ]
    },
    {
      "cell_type": "code",
      "execution_count": 33,
      "metadata": {
        "colab": {
          "base_uri": "https://localhost:8080/"
        },
        "id": "7QGxw60tie7f",
        "outputId": "32c49761-e771-4c7d-89c9-1cdbbf152134"
      },
      "outputs": [
        {
          "name": "stdout",
          "output_type": "stream",
          "text": [
            "0.782608695652174\n",
            "              precision    recall  f1-score   support\n",
            "\n",
            "           0       0.71      0.80      0.75        75\n",
            "           1       0.85      0.77      0.81       109\n",
            "\n",
            "    accuracy                           0.78       184\n",
            "   macro avg       0.78      0.79      0.78       184\n",
            "weighted avg       0.79      0.78      0.78       184\n",
            "\n",
            "[[60 15]\n",
            " [25 84]]\n"
          ]
        }
      ],
      "source": [
        "dt=DecisionTreeClassifier()\n",
        "dt.fit(X_train,y_train)\n",
        "y_preddt=dt.predict(X_test)\n",
        "\n",
        "print(accuracy_score(y_test,y_preddt))\n",
        "print(classification_report(y_test,y_preddt))\n",
        "print(confusion_matrix(y_test,y_preddt))"
      ]
    },
    {
      "cell_type": "code",
      "execution_count": 34,
      "metadata": {
        "colab": {
          "base_uri": "https://localhost:8080/",
          "height": 564
        },
        "id": "4EtWVJM7mQ77",
        "outputId": "9b282d80-c619-4707-f335-5cfc68cfd61f"
      },
      "outputs": [
        {
          "data": {
            "image/png": "[encoded data removed]",
            "text/plain": [
              "<Figure size 800x600 with 2 Axes>"
            ]
          },
          "metadata": {},
          "output_type": "display_data"
        }
      ],
      "source": [
        "cm = confusion_matrix(y_test, y_preddt)\n",
        "plt.figure(figsize=(8, 6))\n",
        "sns.heatmap(cm, annot=True, fmt='d', cmap='Blues')\n",
        "plt.title('Confusion Matrix for DecisionTree')\n",
        "plt.xlabel('Predicted')\n",
        "plt.ylabel('Actual')\n",
        "plt.show()"
      ]
    },
    {
      "cell_type": "code",
      "execution_count": 35,
      "metadata": {
        "colab": {
          "base_uri": "https://localhost:8080/"
        },
        "id": "zxYx7Em5jdFD",
        "outputId": "d1db886f-9717-4617-d89c-1e718c8ec0a6"
      },
      "outputs": [
        {
          "name": "stdout",
          "output_type": "stream",
          "text": [
            "0.875\n",
            "              precision    recall  f1-score   support\n",
            "\n",
            "           0       0.82      0.88      0.85        75\n",
            "           1       0.91      0.87      0.89       109\n",
            "\n",
            "    accuracy                           0.88       184\n",
            "   macro avg       0.87      0.88      0.87       184\n",
            "weighted avg       0.88      0.88      0.88       184\n",
            "\n",
            "[[66  9]\n",
            " [14 95]]\n"
          ]
        }
      ],
      "source": [
        "xg = XGBClassifier()\n",
        "xg.fit(X_train, y_train)\n",
        "y_predxg = xg.predict(X_test)\n",
        "\n",
        "print(accuracy_score(y_test, y_predxg))\n",
        "print(classification_report(y_test, y_predxg))\n",
        "print(confusion_matrix(y_test, y_predxg))\n"
      ]
    },
    {
      "cell_type": "code",
      "execution_count": 36,
      "metadata": {
        "colab": {
          "base_uri": "https://localhost:8080/",
          "height": 564
        },
        "id": "b9UsHoxLl3iB",
        "outputId": "7b9a624e-3191-4350-c2c9-a4af506ef9c6"
      },
      "outputs": [
        {
          "data": {
            "image/png": "[encoded data removed]",
            "text/plain": [
              "<Figure size 800x600 with 2 Axes>"
            ]
          },
          "metadata": {},
          "output_type": "display_data"
        }
      ],
      "source": [
        "cm = confusion_matrix(y_test, y_predxg)\n",
        "plt.figure(figsize=(8, 6))\n",
        "sns.heatmap(cm, annot=True, fmt='d', cmap='Blues')\n",
        "plt.title('Confusion Matrix for XGBoost')\n",
        "plt.xlabel('Predicted')\n",
        "plt.ylabel('Actual')\n",
        "plt.show()"
      ]
    },
    {
      "cell_type": "code",
      "execution_count": 37,
      "metadata": {
        "colab": {
          "base_uri": "https://localhost:8080/",
          "height": 80
        },
        "id": "DtLOpAhGLdQQ",
        "outputId": "7dfc29e9-7313-472e-d848-b3242746820c"
      },
      "outputs": [
        {
          "data": {
            "text/html": [
              "<style>#sk-container-id-1 {\n",
              "  /* Definition of color scheme common for light and dark mode */\n",
              "  --sklearn-color-text: #000;\n",
              "  --sklearn-color-text-muted: #666;\n",
              "  --sklearn-color-line: gray;\n",
              "  /* Definition of color scheme for unfitted estimators */\n",
              "  --sklearn-color-unfitted-level-0: #fff5e6;\n",
              "  --sklearn-color-unfitted-level-1: #f6e4d2;\n",
              "  --sklearn-color-unfitted-level-2: #ffe0b3;\n",
              "  --sklearn-color-unfitted-level-3: chocolate;\n",
              "  /* Definition of color scheme for fitted estimators */\n",
              "  --sklearn-color-fitted-level-0: #f0f8ff;\n",
              "  --sklearn-color-fitted-level-1: #d4ebff;\n",
              "  --sklearn-color-fitted-level-2: #b3dbfd;\n",
              "  --sklearn-color-fitted-level-3: cornflowerblue;\n",
              "\n",
              "  /* Specific color for light theme */\n",
              "  --sklearn-color-text-on-default-background: var(--sg-text-color, var(--theme-code-foreground, var(--jp-content-font-color1, black)));\n",
              "  --sklearn-color-background: var(--sg-background-color, var(--theme-background, var(--jp-layout-color0, white)));\n",
              "  --sklearn-color-border-box: var(--sg-text-color, var(--theme-code-foreground, var(--jp-content-font-color1, black)));\n",
              "  --sklearn-color-icon: #696969;\n",
              "\n",
              "  @media (prefers-color-scheme: dark) {\n",
              "    /* Redefinition of color scheme for dark theme */\n",
              "    --sklearn-color-text-on-default-background: var(--sg-text-color, var(--theme-code-foreground, var(--jp-content-font-color1, white)));\n",
              "    --sklearn-color-background: var(--sg-background-color, var(--theme-background, var(--jp-layout-color0, #111)));\n",
              "    --sklearn-color-border-box: var(--sg-text-color, var(--theme-code-foreground, var(--jp-content-font-color1, white)));\n",
              "    --sklearn-color-icon: #878787;\n",
              "  }\n",
              "}\n",
              "\n",
              "#sk-container-id-1 {\n",
              "  color: var(--sklearn-color-text);\n",
              "}\n",
              "\n",
              "#sk-container-id-1 pre {\n",
              "  padding: 0;\n",
              "}\n",
              "\n",
              "#sk-container-id-1 input.sk-hidden--visually {\n",
              "  border: 0;\n",
              "  clip: rect(1px 1px 1px 1px);\n",
              "  clip: rect(1px, 1px, 1px, 1px);\n",
              "  height: 1px;\n",
              "  margin: -1px;\n",
              "  overflow: hidden;\n",
              "  padding: 0;\n",
              "  position: absolute;\n",
              "  width: 1px;\n",
              "}\n",
              "\n",
              "#sk-container-id-1 div.sk-dashed-wrapped {\n",
              "  border: 1px dashed var(--sklearn-color-line);\n",
              "  margin: 0 0.4em 0.5em 0.4em;\n",
              "  box-sizing: border-box;\n",
              "  padding-bottom: 0.4em;\n",
              "  background-color: var(--sklearn-color-background);\n",
              "}\n",
              "\n",
              "#sk-container-id-1 div.sk-container {\n",
              "  /* jupyter's `normalize.less` sets `[hidden] { display: none; }`\n",
              "     but bootstrap.min.css set `[hidden] { display: none !important; }`\n",
              "     so we also need the `!important` here to be able to override the\n",
              "     default hidden behavior on the sphinx rendered scikit-learn.org.\n",
              "     See: https://github.com/scikit-learn/scikit-learn/issues/21755 */\n",
              "  display: inline-block !important;\n",
              "  position: relative;\n",
              "}\n",
              "\n",
              "#sk-container-id-1 div.sk-text-repr-fallback {\n",
              "  display: none;\n",
              "}\n",
              "\n",
              "div.sk-parallel-item,\n",
              "div.sk-serial,\n",
              "div.sk-item {\n",
              "  /* draw centered vertical line to link estimators */\n",
              "  background-image: linear-gradient(var(--sklearn-color-text-on-default-background), var(--sklearn-color-text-on-default-background));\n",
              "  background-size: 2px 100%;\n",
              "  background-repeat: no-repeat;\n",
              "  background-position: center center;\n",
              "}\n",
              "\n",
              "/* Parallel-specific style estimator block */\n",
              "\n",
              "#sk-container-id-1 div.sk-parallel-item::after {\n",
              "  content: \"\";\n",
              "  width: 100%;\n",
              "  border-bottom: 2px solid var(--sklearn-color-text-on-default-background);\n",
              "  flex-grow: 1;\n",
              "}\n",
              "\n",
              "#sk-container-id-1 div.sk-parallel {\n",
              "  display: flex;\n",
              "  align-items: stretch;\n",
              "  justify-content: center;\n",
              "  background-color: var(--sklearn-color-background);\n",
              "  position: relative;\n",
              "}\n",
              "\n",
              "#sk-container-id-1 div.sk-parallel-item {\n",
              "  display: flex;\n",
              "  flex-direction: column;\n",
              "}\n",
              "\n",
              "#sk-container-id-1 div.sk-parallel-item:first-child::after {\n",
              "  align-self: flex-end;\n",
              "  width: 50%;\n",
              "}\n",
              "\n",
              "#sk-container-id-1 div.sk-parallel-item:last-child::after {\n",
              "  align-self: flex-start;\n",
              "  width: 50%;\n",
              "}\n",
              "\n",
              "#sk-container-id-1 div.sk-parallel-item:only-child::after {\n",
              "  width: 0;\n",
              "}\n",
              "\n",
              "/* Serial-specific style estimator block */\n",
              "\n",
              "#sk-container-id-1 div.sk-serial {\n",
              "  display: flex;\n",
              "  flex-direction: column;\n",
              "  align-items: center;\n",
              "  background-color: var(--sklearn-color-background);\n",
              "  padding-right: 1em;\n",
              "  padding-left: 1em;\n",
              "}\n",
              "\n",
              "\n",
              "/* Toggleable style: style used for estimator/Pipeline/ColumnTransformer box that is\n",
              "clickable and can be expanded/collapsed.\n",
              "- Pipeline and ColumnTransformer use this feature and define the default style\n",
              "- Estimators will overwrite some part of the style using the `sk-estimator` class\n",
              "*/\n",
              "\n",
              "/* Pipeline and ColumnTransformer style (default) */\n",
              "\n",
              "#sk-container-id-1 div.sk-toggleable {\n",
              "  /* Default theme specific background. It is overwritten whether we have a\n",
              "  specific estimator or a Pipeline/ColumnTransformer */\n",
              "  background-color: var(--sklearn-color-background);\n",
              "}\n",
              "\n",
              "/* Toggleable label */\n",
              "#sk-container-id-1 label.sk-toggleable__label {\n",
              "  cursor: pointer;\n",
              "  display: flex;\n",
              "  width: 100%;\n",
              "  margin-bottom: 0;\n",
              "  padding: 0.5em;\n",
              "  box-sizing: border-box;\n",
              "  text-align: center;\n",
              "  align-items: start;\n",
              "  justify-content: space-between;\n",
              "  gap: 0.5em;\n",
              "}\n",
              "\n",
              "#sk-container-id-1 label.sk-toggleable__label .caption {\n",
              "  font-size: 0.6rem;\n",
              "  font-weight: lighter;\n",
              "  color: var(--sklearn-color-text-muted);\n",
              "}\n",
              "\n",
              "#sk-container-id-1 label.sk-toggleable__label-arrow:before {\n",
              "  /* Arrow on the left of the label */\n",
              "  content: \"▸\";\n",
              "  float: left;\n",
              "  margin-right: 0.25em;\n",
              "  color: var(--sklearn-color-icon);\n",
              "}\n",
              "\n",
              "#sk-container-id-1 label.sk-toggleable__label-arrow:hover:before {\n",
              "  color: var(--sklearn-color-text);\n",
              "}\n",
              "\n",
              "/* Toggleable content - dropdown */\n",
              "\n",
              "#sk-container-id-1 div.sk-toggleable__content {\n",
              "  max-height: 0;\n",
              "  max-width: 0;\n",
              "  overflow: hidden;\n",
              "  text-align: left;\n",
              "  /* unfitted */\n",
              "  background-color: var(--sklearn-color-unfitted-level-0);\n",
              "}\n",
              "\n",
              "#sk-container-id-1 div.sk-toggleable__content.fitted {\n",
              "  /* fitted */\n",
              "  background-color: var(--sklearn-color-fitted-level-0);\n",
              "}\n",
              "\n",
              "#sk-container-id-1 div.sk-toggleable__content pre {\n",
              "  margin: 0.2em;\n",
              "  border-radius: 0.25em;\n",
              "  color: var(--sklearn-color-text);\n",
              "  /* unfitted */\n",
              "  background-color: var(--sklearn-color-unfitted-level-0);\n",
              "}\n",
              "\n",
              "#sk-container-id-1 div.sk-toggleable__content.fitted pre {\n",
              "  /* unfitted */\n",
              "  background-color: var(--sklearn-color-fitted-level-0);\n",
              "}\n",
              "\n",
              "#sk-container-id-1 input.sk-toggleable__control:checked~div.sk-toggleable__content {\n",
              "  /* Expand drop-down */\n",
              "  max-height: 200px;\n",
              "  max-width: 100%;\n",
              "  overflow: auto;\n",
              "}\n",
              "\n",
              "#sk-container-id-1 input.sk-toggleable__control:checked~label.sk-toggleable__label-arrow:before {\n",
              "  content: \"▾\";\n",
              "}\n",
              "\n",
              "/* Pipeline/ColumnTransformer-specific style */\n",
              "\n",
              "#sk-container-id-1 div.sk-label input.sk-toggleable__control:checked~label.sk-toggleable__label {\n",
              "  color: var(--sklearn-color-text);\n",
              "  background-color: var(--sklearn-color-unfitted-level-2);\n",
              "}\n",
              "\n",
              "#sk-container-id-1 div.sk-label.fitted input.sk-toggleable__control:checked~label.sk-toggleable__label {\n",
              "  background-color: var(--sklearn-color-fitted-level-2);\n",
              "}\n",
              "\n",
              "/* Estimator-specific style */\n",
              "\n",
              "/* Colorize estimator box */\n",
              "#sk-container-id-1 div.sk-estimator input.sk-toggleable__control:checked~label.sk-toggleable__label {\n",
              "  /* unfitted */\n",
              "  background-color: var(--sklearn-color-unfitted-level-2);\n",
              "}\n",
              "\n",
              "#sk-container-id-1 div.sk-estimator.fitted input.sk-toggleable__control:checked~label.sk-toggleable__label {\n",
              "  /* fitted */\n",
              "  background-color: var(--sklearn-color-fitted-level-2);\n",
              "}\n",
              "\n",
              "#sk-container-id-1 div.sk-label label.sk-toggleable__label,\n",
              "#sk-container-id-1 div.sk-label label {\n",
              "  /* The background is the default theme color */\n",
              "  color: var(--sklearn-color-text-on-default-background);\n",
              "}\n",
              "\n",
              "/* On hover, darken the color of the background */\n",
              "#sk-container-id-1 div.sk-label:hover label.sk-toggleable__label {\n",
              "  color: var(--sklearn-color-text);\n",
              "  background-color: var(--sklearn-color-unfitted-level-2);\n",
              "}\n",
              "\n",
              "/* Label box, darken color on hover, fitted */\n",
              "#sk-container-id-1 div.sk-label.fitted:hover label.sk-toggleable__label.fitted {\n",
              "  color: var(--sklearn-color-text);\n",
              "  background-color: var(--sklearn-color-fitted-level-2);\n",
              "}\n",
              "\n",
              "/* Estimator label */\n",
              "\n",
              "#sk-container-id-1 div.sk-label label {\n",
              "  font-family: monospace;\n",
              "  font-weight: bold;\n",
              "  display: inline-block;\n",
              "  line-height: 1.2em;\n",
              "}\n",
              "\n",
              "#sk-container-id-1 div.sk-label-container {\n",
              "  text-align: center;\n",
              "}\n",
              "\n",
              "/* Estimator-specific */\n",
              "#sk-container-id-1 div.sk-estimator {\n",
              "  font-family: monospace;\n",
              "  border: 1px dotted var(--sklearn-color-border-box);\n",
              "  border-radius: 0.25em;\n",
              "  box-sizing: border-box;\n",
              "  margin-bottom: 0.5em;\n",
              "  /* unfitted */\n",
              "  background-color: var(--sklearn-color-unfitted-level-0);\n",
              "}\n",
              "\n",
              "#sk-container-id-1 div.sk-estimator.fitted {\n",
              "  /* fitted */\n",
              "  background-color: var(--sklearn-color-fitted-level-0);\n",
              "}\n",
              "\n",
              "/* on hover */\n",
              "#sk-container-id-1 div.sk-estimator:hover {\n",
              "  /* unfitted */\n",
              "  background-color: var(--sklearn-color-unfitted-level-2);\n",
              "}\n",
              "\n",
              "#sk-container-id-1 div.sk-estimator.fitted:hover {\n",
              "  /* fitted */\n",
              "  background-color: var(--sklearn-color-fitted-level-2);\n",
              "}\n",
              "\n",
              "/* Specification for estimator info (e.g. \"i\" and \"?\") */\n",
              "\n",
              "/* Common style for \"i\" and \"?\" */\n",
              "\n",
              ".sk-estimator-doc-link,\n",
              "a:link.sk-estimator-doc-link,\n",
              "a:visited.sk-estimator-doc-link {\n",
              "  float: right;\n",
              "  font-size: smaller;\n",
              "  line-height: 1em;\n",
              "  font-family: monospace;\n",
              "  background-color: var(--sklearn-color-background);\n",
              "  border-radius: 1em;\n",
              "  height: 1em;\n",
              "  width: 1em;\n",
              "  text-decoration: none !important;\n",
              "  margin-left: 0.5em;\n",
              "  text-align: center;\n",
              "  /* unfitted */\n",
              "  border: var(--sklearn-color-unfitted-level-1) 1pt solid;\n",
              "  color: var(--sklearn-color-unfitted-level-1);\n",
              "}\n",
              "\n",
              ".sk-estimator-doc-link.fitted,\n",
              "a:link.sk-estimator-doc-link.fitted,\n",
              "a:visited.sk-estimator-doc-link.fitted {\n",
              "  /* fitted */\n",
              "  border: var(--sklearn-color-fitted-level-1) 1pt solid;\n",
              "  color: var(--sklearn-color-fitted-level-1);\n",
              "}\n",
              "\n",
              "/* On hover */\n",
              "div.sk-estimator:hover .sk-estimator-doc-link:hover,\n",
              ".sk-estimator-doc-link:hover,\n",
              "div.sk-label-container:hover .sk-estimator-doc-link:hover,\n",
              ".sk-estimator-doc-link:hover {\n",
              "  /* unfitted */\n",
              "  background-color: var(--sklearn-color-unfitted-level-3);\n",
              "  color: var(--sklearn-color-background);\n",
              "  text-decoration: none;\n",
              "}\n",
              "\n",
              "div.sk-estimator.fitted:hover .sk-estimator-doc-link.fitted:hover,\n",
              ".sk-estimator-doc-link.fitted:hover,\n",
              "div.sk-label-container:hover .sk-estimator-doc-link.fitted:hover,\n",
              ".sk-estimator-doc-link.fitted:hover {\n",
              "  /* fitted */\n",
              "  background-color: var(--sklearn-color-fitted-level-3);\n",
              "  color: var(--sklearn-color-background);\n",
              "  text-decoration: none;\n",
              "}\n",
              "\n",
              "/* Span, style for the box shown on hovering the info icon */\n",
              ".sk-estimator-doc-link span {\n",
              "  display: none;\n",
              "  z-index: 9999;\n",
              "  position: relative;\n",
              "  font-weight: normal;\n",
              "  right: .2ex;\n",
              "  padding: .5ex;\n",
              "  margin: .5ex;\n",
              "  width: min-content;\n",
              "  min-width: 20ex;\n",
              "  max-width: 50ex;\n",
              "  color: var(--sklearn-color-text);\n",
              "  box-shadow: 2pt 2pt 4pt #999;\n",
              "  /* unfitted */\n",
              "  background: var(--sklearn-color-unfitted-level-0);\n",
              "  border: .5pt solid var(--sklearn-color-unfitted-level-3);\n",
              "}\n",
              "\n",
              ".sk-estimator-doc-link.fitted span {\n",
              "  /* fitted */\n",
              "  background: var(--sklearn-color-fitted-level-0);\n",
              "  border: var(--sklearn-color-fitted-level-3);\n",
              "}\n",
              "\n",
              ".sk-estimator-doc-link:hover span {\n",
              "  display: block;\n",
              "}\n",
              "\n",
              "/* \"?\"-specific style due to the `<a>` HTML tag */\n",
              "\n",
              "#sk-container-id-1 a.estimator_doc_link {\n",
              "  float: right;\n",
              "  font-size: 1rem;\n",
              "  line-height: 1em;\n",
              "  font-family: monospace;\n",
              "  background-color: var(--sklearn-color-background);\n",
              "  border-radius: 1rem;\n",
              "  height: 1rem;\n",
              "  width: 1rem;\n",
              "  text-decoration: none;\n",
              "  /* unfitted */\n",
              "  color: var(--sklearn-color-unfitted-level-1);\n",
              "  border: var(--sklearn-color-unfitted-level-1) 1pt solid;\n",
              "}\n",
              "\n",
              "#sk-container-id-1 a.estimator_doc_link.fitted {\n",
              "  /* fitted */\n",
              "  border: var(--sklearn-color-fitted-level-1) 1pt solid;\n",
              "  color: var(--sklearn-color-fitted-level-1);\n",
              "}\n",
              "\n",
              "/* On hover */\n",
              "#sk-container-id-1 a.estimator_doc_link:hover {\n",
              "  /* unfitted */\n",
              "  background-color: var(--sklearn-color-unfitted-level-3);\n",
              "  color: var(--sklearn-color-background);\n",
              "  text-decoration: none;\n",
              "}\n",
              "\n",
              "#sk-container-id-1 a.estimator_doc_link.fitted:hover {\n",
              "  /* fitted */\n",
              "  background-color: var(--sklearn-color-fitted-level-3);\n",
              "}\n",
              "</style><div id=\"sk-container-id-1\" class=\"sk-top-container\"><div class=\"sk-text-repr-fallback\"><pre>LogisticRegression(max_iter=1000)</pre><b>In a Jupyter environment, please rerun this cell to show the HTML representation or trust the notebook. <br />On GitHub, the HTML representation is unable to render, please try loading this page with nbviewer.org.</b></div><div class=\"sk-container\" hidden><div class=\"sk-item\"><div class=\"sk-estimator fitted sk-toggleable\"><input class=\"sk-toggleable__control sk-hidden--visually\" id=\"sk-estimator-id-1\" type=\"checkbox\" checked><label for=\"sk-estimator-id-1\" class=\"sk-toggleable__label fitted sk-toggleable__label-arrow\"><div><div>LogisticRegression</div></div><div><a class=\"sk-estimator-doc-link fitted\" rel=\"noreferrer\" target=\"_blank\" href=\"https://scikit-learn.org/1.6/modules/generated/sklearn.linear_model.LogisticRegression.html\">?<span>Documentation for LogisticRegression</span></a><span class=\"sk-estimator-doc-link fitted\">i<span>Fitted</span></span></div></label><div class=\"sk-toggleable__content fitted\"><pre>LogisticRegression(max_iter=1000)</pre></div> </div></div></div></div>"
            ],
            "text/plain": [
              "LogisticRegression(max_iter=1000)"
            ]
          },
          "execution_count": 37,
          "metadata": {},
          "output_type": "execute_result"
        }
      ],
      "source": [
        "log_reg = LogisticRegression(max_iter=1000)\n",
        "log_reg.fit(X_train, y_train)"
      ]
    },
    {
      "cell_type": "code",
      "execution_count": 38,
      "metadata": {
        "id": "suEsO62HLiyq"
      },
      "outputs": [],
      "source": [
        "y_pred_log = log_reg.predict(X_test)"
      ]
    },
    {
      "cell_type": "code",
      "execution_count": 39,
      "metadata": {
        "colab": {
          "base_uri": "https://localhost:8080/"
        },
        "id": "05qhiVyZLm2r",
        "outputId": "722117e9-2d04-40f4-aac8-99f6eeb6bea1"
      },
      "outputs": [
        {
          "name": "stdout",
          "output_type": "stream",
          "text": [
            "🔹 Logistic Regression Results 🔹\n",
            "Accuracy: 0.7989130434782609\n",
            "\n",
            "Classification Report:\n",
            "               precision    recall  f1-score   support\n",
            "\n",
            "           0       0.73      0.80      0.76        75\n",
            "           1       0.85      0.80      0.82       109\n",
            "\n",
            "    accuracy                           0.80       184\n",
            "   macro avg       0.79      0.80      0.79       184\n",
            "weighted avg       0.80      0.80      0.80       184\n",
            "\n",
            "\n",
            "Confusion Matrix:\n",
            " [[60 15]\n",
            " [22 87]]\n"
          ]
        }
      ],
      "source": [
        "print(\"🔹 Logistic Regression Results 🔹\")\n",
        "print(\"Accuracy:\", accuracy_score(y_test, y_pred_log))\n",
        "print(\"\\nClassification Report:\\n\", classification_report(y_test, y_pred_log))\n",
        "print(\"\\nConfusion Matrix:\\n\", confusion_matrix(y_test, y_pred_log))"
      ]
    },
    {
      "cell_type": "code",
      "execution_count": 40,
      "metadata": {
        "colab": {
          "base_uri": "https://localhost:8080/",
          "height": 564
        },
        "id": "uUW0jfFXLq-9",
        "outputId": "1d3d34da-e04b-4b1e-aa03-589dc4f0d3d4"
      },
      "outputs": [
        {
          "data": {
            "image/png": "[encoded data removed]",
            "text/plain": [
              "<Figure size 800x600 with 2 Axes>"
            ]
          },
          "metadata": {},
          "output_type": "display_data"
        }
      ],
      "source": [
        "cm = confusion_matrix(y_test, y_pred_log)\n",
        "plt.figure(figsize=(8, 6))\n",
        "sns.heatmap(cm, annot=True, fmt='d', cmap='Greens')\n",
        "plt.title('Confusion Matrix for Logistic Regression')\n",
        "plt.xlabel('Predicted')\n",
        "plt.ylabel('Actual')\n",
        "plt.show()"
      ]
    },
    {
      "cell_type": "code",
      "execution_count": 41,
      "metadata": {
        "id": "ZmImwbzTMnQ2"
      },
      "outputs": [],
      "source": [
        "from sklearn.preprocessing import StandardScaler"
      ]
    },
    {
      "cell_type": "code",
      "execution_count": 42,
      "metadata": {
        "id": "oc7JhJXjMof-"
      },
      "outputs": [],
      "source": [
        "scaler = StandardScaler()\n",
        "X_train_scaled = scaler.fit_transform(X_train)\n",
        "X_test_scaled = scaler.transform(X_test)"
      ]
    },
    {
      "cell_type": "code",
      "execution_count": 43,
      "metadata": {
        "colab": {
          "base_uri": "https://localhost:8080/",
          "height": 80
        },
        "id": "0gOpdgd6Mrlt",
        "outputId": "5f15dd6e-4f41-4685-86d5-4559e694ddcd"
      },
      "outputs": [
        {
          "data": {
            "text/html": [
              "<style>#sk-container-id-2 {\n",
              "  /* Definition of color scheme common for light and dark mode */\n",
              "  --sklearn-color-text: #000;\n",
              "  --sklearn-color-text-muted: #666;\n",
              "  --sklearn-color-line: gray;\n",
              "  /* Definition of color scheme for unfitted estimators */\n",
              "  --sklearn-color-unfitted-level-0: #fff5e6;\n",
              "  --sklearn-color-unfitted-level-1: #f6e4d2;\n",
              "  --sklearn-color-unfitted-level-2: #ffe0b3;\n",
              "  --sklearn-color-unfitted-level-3: chocolate;\n",
              "  /* Definition of color scheme for fitted estimators */\n",
              "  --sklearn-color-fitted-level-0: #f0f8ff;\n",
              "  --sklearn-color-fitted-level-1: #d4ebff;\n",
              "  --sklearn-color-fitted-level-2: #b3dbfd;\n",
              "  --sklearn-color-fitted-level-3: cornflowerblue;\n",
              "\n",
              "  /* Specific color for light theme */\n",
              "  --sklearn-color-text-on-default-background: var(--sg-text-color, var(--theme-code-foreground, var(--jp-content-font-color1, black)));\n",
              "  --sklearn-color-background: var(--sg-background-color, var(--theme-background, var(--jp-layout-color0, white)));\n",
              "  --sklearn-color-border-box: var(--sg-text-color, var(--theme-code-foreground, var(--jp-content-font-color1, black)));\n",
              "  --sklearn-color-icon: #696969;\n",
              "\n",
              "  @media (prefers-color-scheme: dark) {\n",
              "    /* Redefinition of color scheme for dark theme */\n",
              "    --sklearn-color-text-on-default-background: var(--sg-text-color, var(--theme-code-foreground, var(--jp-content-font-color1, white)));\n",
              "    --sklearn-color-background: var(--sg-background-color, var(--theme-background, var(--jp-layout-color0, #111)));\n",
              "    --sklearn-color-border-box: var(--sg-text-color, var(--theme-code-foreground, var(--jp-content-font-color1, white)));\n",
              "    --sklearn-color-icon: #878787;\n",
              "  }\n",
              "}\n",
              "\n",
              "#sk-container-id-2 {\n",
              "  color: var(--sklearn-color-text);\n",
              "}\n",
              "\n",
              "#sk-container-id-2 pre {\n",
              "  padding: 0;\n",
              "}\n",
              "\n",
              "#sk-container-id-2 input.sk-hidden--visually {\n",
              "  border: 0;\n",
              "  clip: rect(1px 1px 1px 1px);\n",
              "  clip: rect(1px, 1px, 1px, 1px);\n",
              "  height: 1px;\n",
              "  margin: -1px;\n",
              "  overflow: hidden;\n",
              "  padding: 0;\n",
              "  position: absolute;\n",
              "  width: 1px;\n",
              "}\n",
              "\n",
              "#sk-container-id-2 div.sk-dashed-wrapped {\n",
              "  border: 1px dashed var(--sklearn-color-line);\n",
              "  margin: 0 0.4em 0.5em 0.4em;\n",
              "  box-sizing: border-box;\n",
              "  padding-bottom: 0.4em;\n",
              "  background-color: var(--sklearn-color-background);\n",
              "}\n",
              "\n",
              "#sk-container-id-2 div.sk-container {\n",
              "  /* jupyter's `normalize.less` sets `[hidden] { display: none; }`\n",
              "     but bootstrap.min.css set `[hidden] { display: none !important; }`\n",
              "     so we also need the `!important` here to be able to override the\n",
              "     default hidden behavior on the sphinx rendered scikit-learn.org.\n",
              "     See: https://github.com/scikit-learn/scikit-learn/issues/21755 */\n",
              "  display: inline-block !important;\n",
              "  position: relative;\n",
              "}\n",
              "\n",
              "#sk-container-id-2 div.sk-text-repr-fallback {\n",
              "  display: none;\n",
              "}\n",
              "\n",
              "div.sk-parallel-item,\n",
              "div.sk-serial,\n",
              "div.sk-item {\n",
              "  /* draw centered vertical line to link estimators */\n",
              "  background-image: linear-gradient(var(--sklearn-color-text-on-default-background), var(--sklearn-color-text-on-default-background));\n",
              "  background-size: 2px 100%;\n",
              "  background-repeat: no-repeat;\n",
              "  background-position: center center;\n",
              "}\n",
              "\n",
              "/* Parallel-specific style estimator block */\n",
              "\n",
              "#sk-container-id-2 div.sk-parallel-item::after {\n",
              "  content: \"\";\n",
              "  width: 100%;\n",
              "  border-bottom: 2px solid var(--sklearn-color-text-on-default-background);\n",
              "  flex-grow: 1;\n",
              "}\n",
              "\n",
              "#sk-container-id-2 div.sk-parallel {\n",
              "  display: flex;\n",
              "  align-items: stretch;\n",
              "  justify-content: center;\n",
              "  background-color: var(--sklearn-color-background);\n",
              "  position: relative;\n",
              "}\n",
              "\n",
              "#sk-container-id-2 div.sk-parallel-item {\n",
              "  display: flex;\n",
              "  flex-direction: column;\n",
              "}\n",
              "\n",
              "#sk-container-id-2 div.sk-parallel-item:first-child::after {\n",
              "  align-self: flex-end;\n",
              "  width: 50%;\n",
              "}\n",
              "\n",
              "#sk-container-id-2 div.sk-parallel-item:last-child::after {\n",
              "  align-self: flex-start;\n",
              "  width: 50%;\n",
              "}\n",
              "\n",
              "#sk-container-id-2 div.sk-parallel-item:only-child::after {\n",
              "  width: 0;\n",
              "}\n",
              "\n",
              "/* Serial-specific style estimator block */\n",
              "\n",
              "#sk-container-id-2 div.sk-serial {\n",
              "  display: flex;\n",
              "  flex-direction: column;\n",
              "  align-items: center;\n",
              "  background-color: var(--sklearn-color-background);\n",
              "  padding-right: 1em;\n",
              "  padding-left: 1em;\n",
              "}\n",
              "\n",
              "\n",
              "/* Toggleable style: style used for estimator/Pipeline/ColumnTransformer box that is\n",
              "clickable and can be expanded/collapsed.\n",
              "- Pipeline and ColumnTransformer use this feature and define the default style\n",
              "- Estimators will overwrite some part of the style using the `sk-estimator` class\n",
              "*/\n",
              "\n",
              "/* Pipeline and ColumnTransformer style (default) */\n",
              "\n",
              "#sk-container-id-2 div.sk-toggleable {\n",
              "  /* Default theme specific background. It is overwritten whether we have a\n",
              "  specific estimator or a Pipeline/ColumnTransformer */\n",
              "  background-color: var(--sklearn-color-background);\n",
              "}\n",
              "\n",
              "/* Toggleable label */\n",
              "#sk-container-id-2 label.sk-toggleable__label {\n",
              "  cursor: pointer;\n",
              "  display: flex;\n",
              "  width: 100%;\n",
              "  margin-bottom: 0;\n",
              "  padding: 0.5em;\n",
              "  box-sizing: border-box;\n",
              "  text-align: center;\n",
              "  align-items: start;\n",
              "  justify-content: space-between;\n",
              "  gap: 0.5em;\n",
              "}\n",
              "\n",
              "#sk-container-id-2 label.sk-toggleable__label .caption {\n",
              "  font-size: 0.6rem;\n",
              "  font-weight: lighter;\n",
              "  color: var(--sklearn-color-text-muted);\n",
              "}\n",
              "\n",
              "#sk-container-id-2 label.sk-toggleable__label-arrow:before {\n",
              "  /* Arrow on the left of the label */\n",
              "  content: \"▸\";\n",
              "  float: left;\n",
              "  margin-right: 0.25em;\n",
              "  color: var(--sklearn-color-icon);\n",
              "}\n",
              "\n",
              "#sk-container-id-2 label.sk-toggleable__label-arrow:hover:before {\n",
              "  color: var(--sklearn-color-text);\n",
              "}\n",
              "\n",
              "/* Toggleable content - dropdown */\n",
              "\n",
              "#sk-container-id-2 div.sk-toggleable__content {\n",
              "  max-height: 0;\n",
              "  max-width: 0;\n",
              "  overflow: hidden;\n",
              "  text-align: left;\n",
              "  /* unfitted */\n",
              "  background-color: var(--sklearn-color-unfitted-level-0);\n",
              "}\n",
              "\n",
              "#sk-container-id-2 div.sk-toggleable__content.fitted {\n",
              "  /* fitted */\n",
              "  background-color: var(--sklearn-color-fitted-level-0);\n",
              "}\n",
              "\n",
              "#sk-container-id-2 div.sk-toggleable__content pre {\n",
              "  margin: 0.2em;\n",
              "  border-radius: 0.25em;\n",
              "  color: var(--sklearn-color-text);\n",
              "  /* unfitted */\n",
              "  background-color: var(--sklearn-color-unfitted-level-0);\n",
              "}\n",
              "\n",
              "#sk-container-id-2 div.sk-toggleable__content.fitted pre {\n",
              "  /* unfitted */\n",
              "  background-color: var(--sklearn-color-fitted-level-0);\n",
              "}\n",
              "\n",
              "#sk-container-id-2 input.sk-toggleable__control:checked~div.sk-toggleable__content {\n",
              "  /* Expand drop-down */\n",
              "  max-height: 200px;\n",
              "  max-width: 100%;\n",
              "  overflow: auto;\n",
              "}\n",
              "\n",
              "#sk-container-id-2 input.sk-toggleable__control:checked~label.sk-toggleable__label-arrow:before {\n",
              "  content: \"▾\";\n",
              "}\n",
              "\n",
              "/* Pipeline/ColumnTransformer-specific style */\n",
              "\n",
              "#sk-container-id-2 div.sk-label input.sk-toggleable__control:checked~label.sk-toggleable__label {\n",
              "  color: var(--sklearn-color-text);\n",
              "  background-color: var(--sklearn-color-unfitted-level-2);\n",
              "}\n",
              "\n",
              "#sk-container-id-2 div.sk-label.fitted input.sk-toggleable__control:checked~label.sk-toggleable__label {\n",
              "  background-color: var(--sklearn-color-fitted-level-2);\n",
              "}\n",
              "\n",
              "/* Estimator-specific style */\n",
              "\n",
              "/* Colorize estimator box */\n",
              "#sk-container-id-2 div.sk-estimator input.sk-toggleable__control:checked~label.sk-toggleable__label {\n",
              "  /* unfitted */\n",
              "  background-color: var(--sklearn-color-unfitted-level-2);\n",
              "}\n",
              "\n",
              "#sk-container-id-2 div.sk-estimator.fitted input.sk-toggleable__control:checked~label.sk-toggleable__label {\n",
              "  /* fitted */\n",
              "  background-color: var(--sklearn-color-fitted-level-2);\n",
              "}\n",
              "\n",
              "#sk-container-id-2 div.sk-label label.sk-toggleable__label,\n",
              "#sk-container-id-2 div.sk-label label {\n",
              "  /* The background is the default theme color */\n",
              "  color: var(--sklearn-color-text-on-default-background);\n",
              "}\n",
              "\n",
              "/* On hover, darken the color of the background */\n",
              "#sk-container-id-2 div.sk-label:hover label.sk-toggleable__label {\n",
              "  color: var(--sklearn-color-text);\n",
              "  background-color: var(--sklearn-color-unfitted-level-2);\n",
              "}\n",
              "\n",
              "/* Label box, darken color on hover, fitted */\n",
              "#sk-container-id-2 div.sk-label.fitted:hover label.sk-toggleable__label.fitted {\n",
              "  color: var(--sklearn-color-text);\n",
              "  background-color: var(--sklearn-color-fitted-level-2);\n",
              "}\n",
              "\n",
              "/* Estimator label */\n",
              "\n",
              "#sk-container-id-2 div.sk-label label {\n",
              "  font-family: monospace;\n",
              "  font-weight: bold;\n",
              "  display: inline-block;\n",
              "  line-height: 1.2em;\n",
              "}\n",
              "\n",
              "#sk-container-id-2 div.sk-label-container {\n",
              "  text-align: center;\n",
              "}\n",
              "\n",
              "/* Estimator-specific */\n",
              "#sk-container-id-2 div.sk-estimator {\n",
              "  font-family: monospace;\n",
              "  border: 1px dotted var(--sklearn-color-border-box);\n",
              "  border-radius: 0.25em;\n",
              "  box-sizing: border-box;\n",
              "  margin-bottom: 0.5em;\n",
              "  /* unfitted */\n",
              "  background-color: var(--sklearn-color-unfitted-level-0);\n",
              "}\n",
              "\n",
              "#sk-container-id-2 div.sk-estimator.fitted {\n",
              "  /* fitted */\n",
              "  background-color: var(--sklearn-color-fitted-level-0);\n",
              "}\n",
              "\n",
              "/* on hover */\n",
              "#sk-container-id-2 div.sk-estimator:hover {\n",
              "  /* unfitted */\n",
              "  background-color: var(--sklearn-color-unfitted-level-2);\n",
              "}\n",
              "\n",
              "#sk-container-id-2 div.sk-estimator.fitted:hover {\n",
              "  /* fitted */\n",
              "  background-color: var(--sklearn-color-fitted-level-2);\n",
              "}\n",
              "\n",
              "/* Specification for estimator info (e.g. \"i\" and \"?\") */\n",
              "\n",
              "/* Common style for \"i\" and \"?\" */\n",
              "\n",
              ".sk-estimator-doc-link,\n",
              "a:link.sk-estimator-doc-link,\n",
              "a:visited.sk-estimator-doc-link {\n",
              "  float: right;\n",
              "  font-size: smaller;\n",
              "  line-height: 1em;\n",
              "  font-family: monospace;\n",
              "  background-color: var(--sklearn-color-background);\n",
              "  border-radius: 1em;\n",
              "  height: 1em;\n",
              "  width: 1em;\n",
              "  text-decoration: none !important;\n",
              "  margin-left: 0.5em;\n",
              "  text-align: center;\n",
              "  /* unfitted */\n",
              "  border: var(--sklearn-color-unfitted-level-1) 1pt solid;\n",
              "  color: var(--sklearn-color-unfitted-level-1);\n",
              "}\n",
              "\n",
              ".sk-estimator-doc-link.fitted,\n",
              "a:link.sk-estimator-doc-link.fitted,\n",
              "a:visited.sk-estimator-doc-link.fitted {\n",
              "  /* fitted */\n",
              "  border: var(--sklearn-color-fitted-level-1) 1pt solid;\n",
              "  color: var(--sklearn-color-fitted-level-1);\n",
              "}\n",
              "\n",
              "/* On hover */\n",
              "div.sk-estimator:hover .sk-estimator-doc-link:hover,\n",
              ".sk-estimator-doc-link:hover,\n",
              "div.sk-label-container:hover .sk-estimator-doc-link:hover,\n",
              ".sk-estimator-doc-link:hover {\n",
              "  /* unfitted */\n",
              "  background-color: var(--sklearn-color-unfitted-level-3);\n",
              "  color: var(--sklearn-color-background);\n",
              "  text-decoration: none;\n",
              "}\n",
              "\n",
              "div.sk-estimator.fitted:hover .sk-estimator-doc-link.fitted:hover,\n",
              ".sk-estimator-doc-link.fitted:hover,\n",
              "div.sk-label-container:hover .sk-estimator-doc-link.fitted:hover,\n",
              ".sk-estimator-doc-link.fitted:hover {\n",
              "  /* fitted */\n",
              "  background-color: var(--sklearn-color-fitted-level-3);\n",
              "  color: var(--sklearn-color-background);\n",
              "  text-decoration: none;\n",
              "}\n",
              "\n",
              "/* Span, style for the box shown on hovering the info icon */\n",
              ".sk-estimator-doc-link span {\n",
              "  display: none;\n",
              "  z-index: 9999;\n",
              "  position: relative;\n",
              "  font-weight: normal;\n",
              "  right: .2ex;\n",
              "  padding: .5ex;\n",
              "  margin: .5ex;\n",
              "  width: min-content;\n",
              "  min-width: 20ex;\n",
              "  max-width: 50ex;\n",
              "  color: var(--sklearn-color-text);\n",
              "  box-shadow: 2pt 2pt 4pt #999;\n",
              "  /* unfitted */\n",
              "  background: var(--sklearn-color-unfitted-level-0);\n",
              "  border: .5pt solid var(--sklearn-color-unfitted-level-3);\n",
              "}\n",
              "\n",
              ".sk-estimator-doc-link.fitted span {\n",
              "  /* fitted */\n",
              "  background: var(--sklearn-color-fitted-level-0);\n",
              "  border: var(--sklearn-color-fitted-level-3);\n",
              "}\n",
              "\n",
              ".sk-estimator-doc-link:hover span {\n",
              "  display: block;\n",
              "}\n",
              "\n",
              "/* \"?\"-specific style due to the `<a>` HTML tag */\n",
              "\n",
              "#sk-container-id-2 a.estimator_doc_link {\n",
              "  float: right;\n",
              "  font-size: 1rem;\n",
              "  line-height: 1em;\n",
              "  font-family: monospace;\n",
              "  background-color: var(--sklearn-color-background);\n",
              "  border-radius: 1rem;\n",
              "  height: 1rem;\n",
              "  width: 1rem;\n",
              "  text-decoration: none;\n",
              "  /* unfitted */\n",
              "  color: var(--sklearn-color-unfitted-level-1);\n",
              "  border: var(--sklearn-color-unfitted-level-1) 1pt solid;\n",
              "}\n",
              "\n",
              "#sk-container-id-2 a.estimator_doc_link.fitted {\n",
              "  /* fitted */\n",
              "  border: var(--sklearn-color-fitted-level-1) 1pt solid;\n",
              "  color: var(--sklearn-color-fitted-level-1);\n",
              "}\n",
              "\n",
              "/* On hover */\n",
              "#sk-container-id-2 a.estimator_doc_link:hover {\n",
              "  /* unfitted */\n",
              "  background-color: var(--sklearn-color-unfitted-level-3);\n",
              "  color: var(--sklearn-color-background);\n",
              "  text-decoration: none;\n",
              "}\n",
              "\n",
              "#sk-container-id-2 a.estimator_doc_link.fitted:hover {\n",
              "  /* fitted */\n",
              "  background-color: var(--sklearn-color-fitted-level-3);\n",
              "}\n",
              "</style><div id=\"sk-container-id-2\" class=\"sk-top-container\"><div class=\"sk-text-repr-fallback\"><pre>LogisticRegression()</pre><b>In a Jupyter environment, please rerun this cell to show the HTML representation or trust the notebook. <br />On GitHub, the HTML representation is unable to render, please try loading this page with nbviewer.org.</b></div><div class=\"sk-container\" hidden><div class=\"sk-item\"><div class=\"sk-estimator fitted sk-toggleable\"><input class=\"sk-toggleable__control sk-hidden--visually\" id=\"sk-estimator-id-2\" type=\"checkbox\" checked><label for=\"sk-estimator-id-2\" class=\"sk-toggleable__label fitted sk-toggleable__label-arrow\"><div><div>LogisticRegression</div></div><div><a class=\"sk-estimator-doc-link fitted\" rel=\"noreferrer\" target=\"_blank\" href=\"https://scikit-learn.org/1.6/modules/generated/sklearn.linear_model.LogisticRegression.html\">?<span>Documentation for LogisticRegression</span></a><span class=\"sk-estimator-doc-link fitted\">i<span>Fitted</span></span></div></label><div class=\"sk-toggleable__content fitted\"><pre>LogisticRegression()</pre></div> </div></div></div></div>"
            ],
            "text/plain": [
              "LogisticRegression()"
            ]
          },
          "execution_count": 43,
          "metadata": {},
          "output_type": "execute_result"
        }
      ],
      "source": [
        "log_reg = LogisticRegression()\n",
        "log_reg.fit(X_train_scaled, y_train)"
      ]
    },
    {
      "cell_type": "code",
      "execution_count": 44,
      "metadata": {
        "id": "kZjPiHnDMu_k"
      },
      "outputs": [],
      "source": [
        "y_pred_logs = log_reg.predict(X_test_scaled)"
      ]
    },
    {
      "cell_type": "code",
      "execution_count": 45,
      "metadata": {
        "colab": {
          "base_uri": "https://localhost:8080/"
        },
        "id": "AHF7AGUaM0H4",
        "outputId": "9760263a-d244-4ea9-fc22-9eb173bf29fb"
      },
      "outputs": [
        {
          "name": "stdout",
          "output_type": "stream",
          "text": [
            "Accuracy: 0.7989130434782609\n",
            "\n",
            "Classification Report:\n",
            "               precision    recall  f1-score   support\n",
            "\n",
            "           0       0.73      0.80      0.76        75\n",
            "           1       0.85      0.80      0.82       109\n",
            "\n",
            "    accuracy                           0.80       184\n",
            "   macro avg       0.79      0.80      0.79       184\n",
            "weighted avg       0.80      0.80      0.80       184\n",
            "\n",
            "\n",
            "Confusion Matrix:\n",
            " [[60 15]\n",
            " [22 87]]\n"
          ]
        }
      ],
      "source": [
        "print(\"Accuracy:\", accuracy_score(y_test, y_pred_logs))\n",
        "print(\"\\nClassification Report:\\n\", classification_report(y_test, y_pred_logs))\n",
        "print(\"\\nConfusion Matrix:\\n\", confusion_matrix(y_test, y_pred_logs))"
      ]
    },
    {
      "cell_type": "code",
      "execution_count": 46,
      "metadata": {
        "colab": {
          "base_uri": "https://localhost:8080/",
          "height": 564
        },
        "id": "eZsh_rysNyvW",
        "outputId": "ecb9654c-19b6-46ab-f360-249c6c879f0a"
      },
      "outputs": [
        {
          "data": {
            "image/png": "[encoded data removed]",
            "text/plain": [
              "<Figure size 800x600 with 2 Axes>"
            ]
          },
          "metadata": {},
          "output_type": "display_data"
        }
      ],
      "source": [
        "cm = confusion_matrix(y_test, y_pred_logs)\n",
        "plt.figure(figsize=(8, 6))\n",
        "sns.heatmap(cm, annot=True, fmt='d', cmap='Greens')\n",
        "plt.title('Confusion Matrix for Logistic Regression with scaller')\n",
        "plt.xlabel('Predicted')\n",
        "plt.ylabel('Actual')\n",
        "plt.show()"
      ]
    },
    {
      "cell_type": "code",
      "execution_count": 47,
      "metadata": {},
      "outputs": [
        {
          "name": "stdout",
          "output_type": "stream",
          "text": [
            "✅ All models saved successfully!\n"
          ]
        }
      ],
      "source": [
        "import joblib\n",
        "\n",
        "joblib.dump(rf, 'model_random_forest.pkl')\n",
        "joblib.dump(dt, 'model_decision_tree.pkl')\n",
        "joblib.dump(xg, 'model_xgboost.pkl')\n",
        "joblib.dump(log_reg, 'model_logistic_regression.pkl')\n",
        "\n",
        "print(\"✅ All models saved successfully!\")"
      ]
    }
  ],
  "metadata": {
    "colab": {
      "provenance": []
    },
    "kernelspec": {
      "display_name": "Python 3",
      "name": "python3"
    },
    "language_info": {
      "codemirror_mode": {
        "name": "ipython",
        "version": 3
      },
      "file_extension": ".py",
      "mimetype": "text/x-python",
      "name": "python",
      "nbconvert_exporter": "python",
      "pygments_lexer": "ipython3",
      "version": "3.11.4"
    }
  },
  "nbformat": 4,
  "nbformat_minor": 0
}
